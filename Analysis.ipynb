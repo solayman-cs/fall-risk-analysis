{
 "cells": [
  {
   "cell_type": "code",
   "execution_count": 13,
   "id": "fec91129",
   "metadata": {},
   "outputs": [],
   "source": [
    "import pandas as pd\n",
    "import matplotlib.pyplot as plt\n",
    "import seaborn as sns\n",
    "\n",
    "# Load the dataset\n",
    "file_path = 'merged_dataset_fall.xlsx' \n",
    "df = pd.read_excel(file_path)"
   ]
  },
  {
   "cell_type": "code",
   "execution_count": 14,
   "id": "a624f6e2",
   "metadata": {},
   "outputs": [
    {
     "name": "stdout",
     "output_type": "stream",
     "text": [
      "General Statistics:\n",
      "            Number         Year\n",
      "count  1070.000000  1070.000000\n",
      "mean     91.063551  2014.657944\n",
      "std      53.921414     1.698182\n",
      "min       1.000000  2012.000000\n",
      "25%      45.000000  2013.000000\n",
      "50%      90.000000  2015.000000\n",
      "75%     134.000000  2016.000000\n",
      "max     215.000000  2017.000000\n"
     ]
    }
   ],
   "source": [
    "print(\"General Statistics:\")\n",
    "print(df.describe())"
   ]
  },
  {
   "cell_type": "code",
   "execution_count": 16,
   "id": "61f91cda",
   "metadata": {},
   "outputs": [
    {
     "name": "stdout",
     "output_type": "stream",
     "text": [
      "\n",
      "Types of Injuries:\n",
      "no injury             764\n",
      "excoriation           121\n",
      "cut                    65\n",
      "HEMATOMA               43\n",
      "Bruising               26\n",
      "EDEMA                  22\n",
      "Fracture               15\n",
      "Head trauma             5\n",
      "Fracture                4\n",
      "HEMATOMA                2\n",
      "Spinal cord injury      1\n",
      "excotiation             1\n",
      "Wound dehiscence        1\n",
      "Name: Type of injury incurred, if any, dtype: int64\n"
     ]
    }
   ],
   "source": [
    "# Types of Injuries\n",
    "print(\"\\nTypes of Injuries:\")\n",
    "print(df['Type of injury incurred, if any'].value_counts())"
   ]
  },
  {
   "cell_type": "code",
   "execution_count": 17,
   "id": "afc689e9",
   "metadata": {},
   "outputs": [
    {
     "name": "stdout",
     "output_type": "stream",
     "text": [
      "\n",
      "Fall Risk Level Analysis:\n",
      "High        633\n",
      "Moderate    386\n",
      "Low          50\n",
      "Name: Fall risk level, dtype: int64\n"
     ]
    }
   ],
   "source": [
    "# Fall Risk Level Analysis\n",
    "print(\"\\nFall Risk Level Analysis:\")\n",
    "print(df['Fall risk level'].value_counts())\n"
   ]
  },
  {
   "cell_type": "code",
   "execution_count": 18,
   "id": "a90db8e5",
   "metadata": {},
   "outputs": [
    {
     "name": "stdout",
     "output_type": "stream",
     "text": [
      "\n",
      "Reasons for Incidents:\n",
      "Loss of balance      324\n",
      "Muscle weakness      228\n",
      "Slip                 189\n",
      "Mental confusion     134\n",
      "Hypotension           99\n",
      "Trip                  62\n",
      "Human error           16\n",
      "Equipment              8\n",
      "Mental confusion       4\n",
      "Motor Deficit          1\n",
      "Syncope                1\n",
      "Dizziness              1\n",
      "Deficit Motor          1\n",
      " Equipment             1\n",
      "Sedation               1\n",
      "Name: Reason for incident, dtype: int64\n"
     ]
    }
   ],
   "source": [
    "# Reasons for Incidents\n",
    "print(\"\\nReasons for Incidents:\")\n",
    "print(df['Reason for incident'].value_counts())"
   ]
  },
  {
   "cell_type": "code",
   "execution_count": null,
   "id": "3e71bf41",
   "metadata": {},
   "outputs": [],
   "source": []
  },
  {
   "cell_type": "code",
   "execution_count": null,
   "id": "3db1e5f9",
   "metadata": {},
   "outputs": [],
   "source": []
  }
 ],
 "metadata": {
  "kernelspec": {
   "display_name": "Python 3 (ipykernel)",
   "language": "python",
   "name": "python3"
  },
  "language_info": {
   "codemirror_mode": {
    "name": "ipython",
    "version": 3
   },
   "file_extension": ".py",
   "mimetype": "text/x-python",
   "name": "python",
   "nbconvert_exporter": "python",
   "pygments_lexer": "ipython3",
   "version": "3.9.12"
  }
 },
 "nbformat": 4,
 "nbformat_minor": 5
}
