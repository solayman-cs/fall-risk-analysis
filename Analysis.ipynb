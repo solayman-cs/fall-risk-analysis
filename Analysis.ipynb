{
 "cells": [
  {
   "cell_type": "code",
   "execution_count": 2,
   "id": "fec91129",
   "metadata": {},
   "outputs": [],
   "source": [
    "import pandas as pd\n",
    "import matplotlib.pyplot as plt\n",
    "import seaborn as sns\n",
    "\n",
    "# Load the dataset\n",
    "file_path = 'merged_dataset_fall.xlsx' \n",
    "df = pd.read_excel(file_path)"
   ]
  },
  {
   "cell_type": "code",
   "execution_count": 3,
   "id": "a624f6e2",
   "metadata": {},
   "outputs": [
    {
     "name": "stdout",
     "output_type": "stream",
     "text": [
      "General Statistics:\n",
      "            Number         Year\n",
      "count  1070.000000  1070.000000\n",
      "mean     91.063551  2014.657944\n",
      "std      53.921414     1.698182\n",
      "min       1.000000  2012.000000\n",
      "25%      45.000000  2013.000000\n",
      "50%      90.000000  2015.000000\n",
      "75%     134.000000  2016.000000\n",
      "max     215.000000  2017.000000\n"
     ]
    }
   ],
   "source": [
    "print(\"General Statistics:\")\n",
    "print(df.describe())"
   ]
  },
  {
   "cell_type": "code",
   "execution_count": 8,
   "id": "23817e3a",
   "metadata": {},
   "outputs": [
    {
     "name": "stdout",
     "output_type": "stream",
     "text": [
      "Null values in the DataFrame:\n",
      "Number                                                     0\n",
      "Year                                                       0\n",
      "Date of incident                                           0\n",
      "Weekday of incident                                        0\n",
      "Shift                                                      0\n",
      "Hospital department or location of incident                0\n",
      "Age range of patient                                       0\n",
      "Type of injury incurred, if any                            0\n",
      "Presence of companion at time of incident                  1\n",
      "Location or environment in which the incident ocurred      0\n",
      "Fall risk level                                            1\n",
      "Reason for incident                                        0\n",
      "Whether a fall prevention protocol was implemented         0\n",
      "Involvement of medication associated with fall risk        0\n",
      "Severity of incident                                       0\n",
      "Sex                                                        1\n",
      "Whether a restraint prescription was given               310\n",
      "Whether a physical therapy prescription was given        465\n",
      "Birth decade of patient                                  509\n",
      "dtype: int64\n"
     ]
    }
   ],
   "source": [
    "print(\"Null values in the DataFrame:\")\n",
    "print(df.isnull().sum())"
   ]
  },
  {
   "cell_type": "code",
   "execution_count": 10,
   "id": "c6886728",
   "metadata": {},
   "outputs": [],
   "source": [
    "df = df.dropna()"
   ]
  },
  {
   "cell_type": "code",
   "execution_count": 11,
   "id": "afc689e9",
   "metadata": {},
   "outputs": [
    {
     "name": "stdout",
     "output_type": "stream",
     "text": [
      "\n",
      "Fall Risk Level Analysis:\n",
      "Fall risk level\n",
      "High        354\n",
      "Moderate    184\n",
      "Low          20\n",
      "Name: count, dtype: int64\n"
     ]
    }
   ],
   "source": [
    "# Fall Risk Level \n",
    "print(\"\\nFall Risk Level Analysis:\")\n",
    "print(df['Fall risk level'].value_counts())\n"
   ]
  },
  {
   "cell_type": "code",
   "execution_count": 12,
   "id": "824d4859",
   "metadata": {},
   "outputs": [
    {
     "data": {
      "application/vnd.plotly.v1+json": {
       "config": {
        "plotlyServerURL": "https://plot.ly"
       },
       "data": [
        {
         "domain": {
          "x": [
           0,
           1
          ],
          "y": [
           0,
           1
          ]
         },
         "hovertemplate": "Fall risk level=%{label}<extra></extra>",
         "labels": [
          "Moderate",
          "High",
          "Moderate",
          "Moderate",
          "High",
          "Moderate",
          "Moderate",
          "High",
          "Moderate",
          "Low",
          "Moderate",
          "Moderate",
          "Moderate",
          "Moderate",
          "Moderate",
          "High",
          "Moderate",
          "Low",
          "High",
          "High",
          "Moderate",
          "Low",
          "Moderate",
          "Moderate",
          "Moderate",
          "High",
          "Low",
          "Moderate",
          "Moderate",
          "Moderate",
          "Low",
          "Moderate",
          "Moderate",
          "Moderate",
          "Moderate",
          "Moderate",
          "Moderate",
          "Moderate",
          "High",
          "Moderate",
          "High",
          "Moderate",
          "High",
          "Moderate",
          "Moderate",
          "Moderate",
          "Moderate",
          "High",
          "Moderate",
          "Moderate",
          "Moderate",
          "Moderate",
          "Moderate",
          "High",
          "Moderate",
          "Moderate",
          "Moderate",
          "Moderate",
          "High",
          "Moderate",
          "High",
          "Moderate",
          "Moderate",
          "High",
          "High",
          "Moderate",
          "Moderate",
          "Moderate",
          "High",
          "Moderate",
          "High",
          "High",
          "Low",
          "Moderate",
          "High",
          "Moderate",
          "Moderate",
          "Moderate",
          "High",
          "High",
          "Moderate",
          "High",
          "High",
          "Moderate",
          "Moderate",
          "High",
          "High",
          "High",
          "High",
          "Moderate",
          "Moderate",
          "Moderate",
          "Moderate",
          "High",
          "High",
          "High",
          "Moderate",
          "High",
          "High",
          "High",
          "Moderate",
          "Moderate",
          "Moderate",
          "Moderate",
          "High",
          "High",
          "High",
          "Moderate",
          "High",
          "High",
          "High",
          "High",
          "Moderate",
          "High",
          "High",
          "Moderate",
          "High",
          "High",
          "High",
          "High",
          "High",
          "High",
          "High",
          "High",
          "High",
          "High",
          "High",
          "Moderate",
          "Moderate",
          "Moderate",
          "Moderate",
          "Moderate",
          "Moderate",
          "Moderate",
          "High",
          "High",
          "High",
          "Low",
          "High",
          "High",
          "Moderate",
          "High",
          "High",
          "High",
          "Moderate",
          "Moderate",
          "High",
          "Moderate",
          "High",
          "High",
          "High",
          "High",
          "High",
          "High",
          "High",
          "High",
          "Moderate",
          "Moderate",
          "High",
          "High",
          "High",
          "High",
          "High",
          "High",
          "High",
          "High",
          "High",
          "High",
          "High",
          "Moderate",
          "High",
          "High",
          "Moderate",
          "High",
          "High",
          "High",
          "High",
          "Moderate",
          "High",
          "Low",
          "High",
          "High",
          "Moderate",
          "Moderate",
          "High",
          "High",
          "High",
          "High",
          "High",
          "Moderate",
          "Moderate",
          "High",
          "Moderate",
          "Moderate",
          "Low",
          "High",
          "Moderate",
          "High",
          "High",
          "Moderate",
          "Moderate",
          "High",
          "High",
          "Moderate",
          "Moderate",
          "High",
          "High",
          "Moderate",
          "High",
          "High",
          "High",
          "High",
          "Moderate",
          "High",
          "Low",
          "High",
          "Moderate",
          "High",
          "Moderate",
          "High",
          "High",
          "High",
          "Moderate",
          "High",
          "High",
          "Moderate",
          "High",
          "Moderate",
          "Moderate",
          "Moderate",
          "Moderate",
          "High",
          "High",
          "High",
          "Moderate",
          "High",
          "Moderate",
          "High",
          "High",
          "Moderate",
          "High",
          "High",
          "Moderate",
          "Moderate",
          "High",
          "High",
          "High",
          "High",
          "High",
          "High",
          "High",
          "High",
          "Moderate",
          "High",
          "High",
          "High",
          "Moderate",
          "High",
          "High",
          "High",
          "Moderate",
          "Moderate",
          "High",
          "High",
          "High",
          "High",
          "High",
          "High",
          "High",
          "Moderate",
          "High",
          "High",
          "High",
          "Moderate",
          "High",
          "High",
          "Moderate",
          "High",
          "Moderate",
          "High",
          "High",
          "High",
          "Moderate",
          "High",
          "High",
          "High",
          "High",
          "Low",
          "Moderate",
          "High",
          "High",
          "High",
          "High",
          "High",
          "Moderate",
          "High",
          "High",
          "High",
          "High",
          "High",
          "High",
          "High",
          "High",
          "High",
          "High",
          "High",
          "High",
          "Moderate",
          "High",
          "Moderate",
          "High",
          "High",
          "Low",
          "High",
          "High",
          "High",
          "High",
          "High",
          "High",
          "High",
          "High",
          "High",
          "High",
          "High",
          "High",
          "Low",
          "High",
          "High",
          "High",
          "High",
          "High",
          "Moderate",
          "Moderate",
          "High",
          "High",
          "High",
          "High",
          "High",
          "High",
          "High",
          "High",
          "Moderate",
          "High",
          "High",
          "High",
          "High",
          "High",
          "High",
          "High",
          "High",
          "High",
          "High",
          "High",
          "High",
          "High",
          "High",
          "High",
          "High",
          "High",
          "High",
          "High",
          "High",
          "High",
          "High",
          "High",
          "Low",
          "High",
          "High",
          "High",
          "Moderate",
          "High",
          "High",
          "High",
          "High",
          "Moderate",
          "High",
          "Moderate",
          "Moderate",
          "Low",
          "Moderate",
          "Moderate",
          "Moderate",
          "Moderate",
          "Moderate",
          "High",
          "High",
          "High",
          "High",
          "Moderate",
          "High",
          "High",
          "High",
          "High",
          "High",
          "Moderate",
          "High",
          "High",
          "Moderate",
          "Moderate",
          "Moderate",
          "Moderate",
          "High",
          "High",
          "High",
          "Moderate",
          "Moderate",
          "Moderate",
          "High",
          "Moderate",
          "Moderate",
          "Moderate",
          "High",
          "High",
          "High",
          "Moderate",
          "Moderate",
          "Moderate",
          "High",
          "High",
          "High",
          "Moderate",
          "High",
          "High",
          "Moderate",
          "High",
          "High",
          "Moderate",
          "High",
          "High",
          "High",
          "High",
          "Moderate",
          "Moderate",
          "High",
          "High",
          "Moderate",
          "High",
          "High",
          "High",
          "Moderate",
          "High",
          "Low",
          "Moderate",
          "Moderate",
          "High",
          "High",
          "Moderate",
          "High",
          "Moderate",
          "High",
          "Moderate",
          "High",
          "Moderate",
          "Moderate",
          "High",
          "Low",
          "High",
          "High",
          "Moderate",
          "High",
          "High",
          "Moderate",
          "High",
          "High",
          "Moderate",
          "High",
          "High",
          "Moderate",
          "High",
          "Moderate",
          "High",
          "High",
          "Moderate",
          "High",
          "High",
          "High",
          "High",
          "High",
          "High",
          "High",
          "Moderate",
          "High",
          "High",
          "High",
          "High",
          "Moderate",
          "High",
          "Low",
          "Moderate",
          "High",
          "Moderate",
          "High",
          "High",
          "High",
          "High",
          "Moderate",
          "Moderate",
          "Moderate",
          "High",
          "Moderate",
          "High",
          "High",
          "High",
          "High",
          "Moderate",
          "High",
          "High",
          "High",
          "High",
          "High",
          "High",
          "High",
          "High",
          "Moderate",
          "Moderate",
          "High",
          "High",
          "High",
          "High",
          "High",
          "High",
          "High",
          "High",
          "Low",
          "High",
          "Moderate",
          "High",
          "High",
          "High",
          "High",
          "High",
          "High",
          "High",
          "Moderate",
          "High",
          "High",
          "High",
          "High",
          "High",
          "High",
          "High",
          "High",
          "High",
          "High",
          "High",
          "High",
          "High",
          "High",
          "High",
          "High",
          "High",
          "Moderate",
          "High",
          "Low",
          "High",
          "Moderate",
          "High",
          "High"
         ],
         "legendgroup": "",
         "name": "",
         "showlegend": true,
         "type": "pie"
        }
       ],
       "layout": {
        "height": 600,
        "legend": {
         "tracegroupgap": 0
        },
        "template": {
         "data": {
          "bar": [
           {
            "error_x": {
             "color": "#2a3f5f"
            },
            "error_y": {
             "color": "#2a3f5f"
            },
            "marker": {
             "line": {
              "color": "#E5ECF6",
              "width": 0.5
             },
             "pattern": {
              "fillmode": "overlay",
              "size": 10,
              "solidity": 0.2
             }
            },
            "type": "bar"
           }
          ],
          "barpolar": [
           {
            "marker": {
             "line": {
              "color": "#E5ECF6",
              "width": 0.5
             },
             "pattern": {
              "fillmode": "overlay",
              "size": 10,
              "solidity": 0.2
             }
            },
            "type": "barpolar"
           }
          ],
          "carpet": [
           {
            "aaxis": {
             "endlinecolor": "#2a3f5f",
             "gridcolor": "white",
             "linecolor": "white",
             "minorgridcolor": "white",
             "startlinecolor": "#2a3f5f"
            },
            "baxis": {
             "endlinecolor": "#2a3f5f",
             "gridcolor": "white",
             "linecolor": "white",
             "minorgridcolor": "white",
             "startlinecolor": "#2a3f5f"
            },
            "type": "carpet"
           }
          ],
          "choropleth": [
           {
            "colorbar": {
             "outlinewidth": 0,
             "ticks": ""
            },
            "type": "choropleth"
           }
          ],
          "contour": [
           {
            "colorbar": {
             "outlinewidth": 0,
             "ticks": ""
            },
            "colorscale": [
             [
              0,
              "#0d0887"
             ],
             [
              0.1111111111111111,
              "#46039f"
             ],
             [
              0.2222222222222222,
              "#7201a8"
             ],
             [
              0.3333333333333333,
              "#9c179e"
             ],
             [
              0.4444444444444444,
              "#bd3786"
             ],
             [
              0.5555555555555556,
              "#d8576b"
             ],
             [
              0.6666666666666666,
              "#ed7953"
             ],
             [
              0.7777777777777778,
              "#fb9f3a"
             ],
             [
              0.8888888888888888,
              "#fdca26"
             ],
             [
              1,
              "#f0f921"
             ]
            ],
            "type": "contour"
           }
          ],
          "contourcarpet": [
           {
            "colorbar": {
             "outlinewidth": 0,
             "ticks": ""
            },
            "type": "contourcarpet"
           }
          ],
          "heatmap": [
           {
            "colorbar": {
             "outlinewidth": 0,
             "ticks": ""
            },
            "colorscale": [
             [
              0,
              "#0d0887"
             ],
             [
              0.1111111111111111,
              "#46039f"
             ],
             [
              0.2222222222222222,
              "#7201a8"
             ],
             [
              0.3333333333333333,
              "#9c179e"
             ],
             [
              0.4444444444444444,
              "#bd3786"
             ],
             [
              0.5555555555555556,
              "#d8576b"
             ],
             [
              0.6666666666666666,
              "#ed7953"
             ],
             [
              0.7777777777777778,
              "#fb9f3a"
             ],
             [
              0.8888888888888888,
              "#fdca26"
             ],
             [
              1,
              "#f0f921"
             ]
            ],
            "type": "heatmap"
           }
          ],
          "heatmapgl": [
           {
            "colorbar": {
             "outlinewidth": 0,
             "ticks": ""
            },
            "colorscale": [
             [
              0,
              "#0d0887"
             ],
             [
              0.1111111111111111,
              "#46039f"
             ],
             [
              0.2222222222222222,
              "#7201a8"
             ],
             [
              0.3333333333333333,
              "#9c179e"
             ],
             [
              0.4444444444444444,
              "#bd3786"
             ],
             [
              0.5555555555555556,
              "#d8576b"
             ],
             [
              0.6666666666666666,
              "#ed7953"
             ],
             [
              0.7777777777777778,
              "#fb9f3a"
             ],
             [
              0.8888888888888888,
              "#fdca26"
             ],
             [
              1,
              "#f0f921"
             ]
            ],
            "type": "heatmapgl"
           }
          ],
          "histogram": [
           {
            "marker": {
             "pattern": {
              "fillmode": "overlay",
              "size": 10,
              "solidity": 0.2
             }
            },
            "type": "histogram"
           }
          ],
          "histogram2d": [
           {
            "colorbar": {
             "outlinewidth": 0,
             "ticks": ""
            },
            "colorscale": [
             [
              0,
              "#0d0887"
             ],
             [
              0.1111111111111111,
              "#46039f"
             ],
             [
              0.2222222222222222,
              "#7201a8"
             ],
             [
              0.3333333333333333,
              "#9c179e"
             ],
             [
              0.4444444444444444,
              "#bd3786"
             ],
             [
              0.5555555555555556,
              "#d8576b"
             ],
             [
              0.6666666666666666,
              "#ed7953"
             ],
             [
              0.7777777777777778,
              "#fb9f3a"
             ],
             [
              0.8888888888888888,
              "#fdca26"
             ],
             [
              1,
              "#f0f921"
             ]
            ],
            "type": "histogram2d"
           }
          ],
          "histogram2dcontour": [
           {
            "colorbar": {
             "outlinewidth": 0,
             "ticks": ""
            },
            "colorscale": [
             [
              0,
              "#0d0887"
             ],
             [
              0.1111111111111111,
              "#46039f"
             ],
             [
              0.2222222222222222,
              "#7201a8"
             ],
             [
              0.3333333333333333,
              "#9c179e"
             ],
             [
              0.4444444444444444,
              "#bd3786"
             ],
             [
              0.5555555555555556,
              "#d8576b"
             ],
             [
              0.6666666666666666,
              "#ed7953"
             ],
             [
              0.7777777777777778,
              "#fb9f3a"
             ],
             [
              0.8888888888888888,
              "#fdca26"
             ],
             [
              1,
              "#f0f921"
             ]
            ],
            "type": "histogram2dcontour"
           }
          ],
          "mesh3d": [
           {
            "colorbar": {
             "outlinewidth": 0,
             "ticks": ""
            },
            "type": "mesh3d"
           }
          ],
          "parcoords": [
           {
            "line": {
             "colorbar": {
              "outlinewidth": 0,
              "ticks": ""
             }
            },
            "type": "parcoords"
           }
          ],
          "pie": [
           {
            "automargin": true,
            "type": "pie"
           }
          ],
          "scatter": [
           {
            "fillpattern": {
             "fillmode": "overlay",
             "size": 10,
             "solidity": 0.2
            },
            "type": "scatter"
           }
          ],
          "scatter3d": [
           {
            "line": {
             "colorbar": {
              "outlinewidth": 0,
              "ticks": ""
             }
            },
            "marker": {
             "colorbar": {
              "outlinewidth": 0,
              "ticks": ""
             }
            },
            "type": "scatter3d"
           }
          ],
          "scattercarpet": [
           {
            "marker": {
             "colorbar": {
              "outlinewidth": 0,
              "ticks": ""
             }
            },
            "type": "scattercarpet"
           }
          ],
          "scattergeo": [
           {
            "marker": {
             "colorbar": {
              "outlinewidth": 0,
              "ticks": ""
             }
            },
            "type": "scattergeo"
           }
          ],
          "scattergl": [
           {
            "marker": {
             "colorbar": {
              "outlinewidth": 0,
              "ticks": ""
             }
            },
            "type": "scattergl"
           }
          ],
          "scattermapbox": [
           {
            "marker": {
             "colorbar": {
              "outlinewidth": 0,
              "ticks": ""
             }
            },
            "type": "scattermapbox"
           }
          ],
          "scatterpolar": [
           {
            "marker": {
             "colorbar": {
              "outlinewidth": 0,
              "ticks": ""
             }
            },
            "type": "scatterpolar"
           }
          ],
          "scatterpolargl": [
           {
            "marker": {
             "colorbar": {
              "outlinewidth": 0,
              "ticks": ""
             }
            },
            "type": "scatterpolargl"
           }
          ],
          "scatterternary": [
           {
            "marker": {
             "colorbar": {
              "outlinewidth": 0,
              "ticks": ""
             }
            },
            "type": "scatterternary"
           }
          ],
          "surface": [
           {
            "colorbar": {
             "outlinewidth": 0,
             "ticks": ""
            },
            "colorscale": [
             [
              0,
              "#0d0887"
             ],
             [
              0.1111111111111111,
              "#46039f"
             ],
             [
              0.2222222222222222,
              "#7201a8"
             ],
             [
              0.3333333333333333,
              "#9c179e"
             ],
             [
              0.4444444444444444,
              "#bd3786"
             ],
             [
              0.5555555555555556,
              "#d8576b"
             ],
             [
              0.6666666666666666,
              "#ed7953"
             ],
             [
              0.7777777777777778,
              "#fb9f3a"
             ],
             [
              0.8888888888888888,
              "#fdca26"
             ],
             [
              1,
              "#f0f921"
             ]
            ],
            "type": "surface"
           }
          ],
          "table": [
           {
            "cells": {
             "fill": {
              "color": "#EBF0F8"
             },
             "line": {
              "color": "white"
             }
            },
            "header": {
             "fill": {
              "color": "#C8D4E3"
             },
             "line": {
              "color": "white"
             }
            },
            "type": "table"
           }
          ]
         },
         "layout": {
          "annotationdefaults": {
           "arrowcolor": "#2a3f5f",
           "arrowhead": 0,
           "arrowwidth": 1
          },
          "autotypenumbers": "strict",
          "coloraxis": {
           "colorbar": {
            "outlinewidth": 0,
            "ticks": ""
           }
          },
          "colorscale": {
           "diverging": [
            [
             0,
             "#8e0152"
            ],
            [
             0.1,
             "#c51b7d"
            ],
            [
             0.2,
             "#de77ae"
            ],
            [
             0.3,
             "#f1b6da"
            ],
            [
             0.4,
             "#fde0ef"
            ],
            [
             0.5,
             "#f7f7f7"
            ],
            [
             0.6,
             "#e6f5d0"
            ],
            [
             0.7,
             "#b8e186"
            ],
            [
             0.8,
             "#7fbc41"
            ],
            [
             0.9,
             "#4d9221"
            ],
            [
             1,
             "#276419"
            ]
           ],
           "sequential": [
            [
             0,
             "#0d0887"
            ],
            [
             0.1111111111111111,
             "#46039f"
            ],
            [
             0.2222222222222222,
             "#7201a8"
            ],
            [
             0.3333333333333333,
             "#9c179e"
            ],
            [
             0.4444444444444444,
             "#bd3786"
            ],
            [
             0.5555555555555556,
             "#d8576b"
            ],
            [
             0.6666666666666666,
             "#ed7953"
            ],
            [
             0.7777777777777778,
             "#fb9f3a"
            ],
            [
             0.8888888888888888,
             "#fdca26"
            ],
            [
             1,
             "#f0f921"
            ]
           ],
           "sequentialminus": [
            [
             0,
             "#0d0887"
            ],
            [
             0.1111111111111111,
             "#46039f"
            ],
            [
             0.2222222222222222,
             "#7201a8"
            ],
            [
             0.3333333333333333,
             "#9c179e"
            ],
            [
             0.4444444444444444,
             "#bd3786"
            ],
            [
             0.5555555555555556,
             "#d8576b"
            ],
            [
             0.6666666666666666,
             "#ed7953"
            ],
            [
             0.7777777777777778,
             "#fb9f3a"
            ],
            [
             0.8888888888888888,
             "#fdca26"
            ],
            [
             1,
             "#f0f921"
            ]
           ]
          },
          "colorway": [
           "#636efa",
           "#EF553B",
           "#00cc96",
           "#ab63fa",
           "#FFA15A",
           "#19d3f3",
           "#FF6692",
           "#B6E880",
           "#FF97FF",
           "#FECB52"
          ],
          "font": {
           "color": "#2a3f5f"
          },
          "geo": {
           "bgcolor": "white",
           "lakecolor": "white",
           "landcolor": "#E5ECF6",
           "showlakes": true,
           "showland": true,
           "subunitcolor": "white"
          },
          "hoverlabel": {
           "align": "left"
          },
          "hovermode": "closest",
          "mapbox": {
           "style": "light"
          },
          "paper_bgcolor": "white",
          "plot_bgcolor": "#E5ECF6",
          "polar": {
           "angularaxis": {
            "gridcolor": "white",
            "linecolor": "white",
            "ticks": ""
           },
           "bgcolor": "#E5ECF6",
           "radialaxis": {
            "gridcolor": "white",
            "linecolor": "white",
            "ticks": ""
           }
          },
          "scene": {
           "xaxis": {
            "backgroundcolor": "#E5ECF6",
            "gridcolor": "white",
            "gridwidth": 2,
            "linecolor": "white",
            "showbackground": true,
            "ticks": "",
            "zerolinecolor": "white"
           },
           "yaxis": {
            "backgroundcolor": "#E5ECF6",
            "gridcolor": "white",
            "gridwidth": 2,
            "linecolor": "white",
            "showbackground": true,
            "ticks": "",
            "zerolinecolor": "white"
           },
           "zaxis": {
            "backgroundcolor": "#E5ECF6",
            "gridcolor": "white",
            "gridwidth": 2,
            "linecolor": "white",
            "showbackground": true,
            "ticks": "",
            "zerolinecolor": "white"
           }
          },
          "shapedefaults": {
           "line": {
            "color": "#2a3f5f"
           }
          },
          "ternary": {
           "aaxis": {
            "gridcolor": "white",
            "linecolor": "white",
            "ticks": ""
           },
           "baxis": {
            "gridcolor": "white",
            "linecolor": "white",
            "ticks": ""
           },
           "bgcolor": "#E5ECF6",
           "caxis": {
            "gridcolor": "white",
            "linecolor": "white",
            "ticks": ""
           }
          },
          "title": {
           "x": 0.05
          },
          "xaxis": {
           "automargin": true,
           "gridcolor": "white",
           "linecolor": "white",
           "ticks": "",
           "title": {
            "standoff": 15
           },
           "zerolinecolor": "white",
           "zerolinewidth": 2
          },
          "yaxis": {
           "automargin": true,
           "gridcolor": "white",
           "linecolor": "white",
           "ticks": "",
           "title": {
            "standoff": 15
           },
           "zerolinecolor": "white",
           "zerolinewidth": 2
          }
         }
        },
        "title": {
         "text": "Fall Risk Level Analysis"
        },
        "width": 800
       }
      },
      "text/html": [
       "<div>                            <div id=\"36065057-2828-4603-8695-7843c2c94987\" class=\"plotly-graph-div\" style=\"height:600px; width:800px;\"></div>            <script type=\"text/javascript\">                require([\"plotly\"], function(Plotly) {                    window.PLOTLYENV=window.PLOTLYENV || {};                                    if (document.getElementById(\"36065057-2828-4603-8695-7843c2c94987\")) {                    Plotly.newPlot(                        \"36065057-2828-4603-8695-7843c2c94987\",                        [{\"domain\":{\"x\":[0.0,1.0],\"y\":[0.0,1.0]},\"hovertemplate\":\"Fall risk level=%{label}<extra></extra>\",\"labels\":[\"Moderate\",\"High\",\"Moderate\",\"Moderate\",\"High\",\"Moderate\",\"Moderate\",\"High\",\"Moderate\",\"Low\",\"Moderate\",\"Moderate\",\"Moderate\",\"Moderate\",\"Moderate\",\"High\",\"Moderate\",\"Low\",\"High\",\"High\",\"Moderate\",\"Low\",\"Moderate\",\"Moderate\",\"Moderate\",\"High\",\"Low\",\"Moderate\",\"Moderate\",\"Moderate\",\"Low\",\"Moderate\",\"Moderate\",\"Moderate\",\"Moderate\",\"Moderate\",\"Moderate\",\"Moderate\",\"High\",\"Moderate\",\"High\",\"Moderate\",\"High\",\"Moderate\",\"Moderate\",\"Moderate\",\"Moderate\",\"High\",\"Moderate\",\"Moderate\",\"Moderate\",\"Moderate\",\"Moderate\",\"High\",\"Moderate\",\"Moderate\",\"Moderate\",\"Moderate\",\"High\",\"Moderate\",\"High\",\"Moderate\",\"Moderate\",\"High\",\"High\",\"Moderate\",\"Moderate\",\"Moderate\",\"High\",\"Moderate\",\"High\",\"High\",\"Low\",\"Moderate\",\"High\",\"Moderate\",\"Moderate\",\"Moderate\",\"High\",\"High\",\"Moderate\",\"High\",\"High\",\"Moderate\",\"Moderate\",\"High\",\"High\",\"High\",\"High\",\"Moderate\",\"Moderate\",\"Moderate\",\"Moderate\",\"High\",\"High\",\"High\",\"Moderate\",\"High\",\"High\",\"High\",\"Moderate\",\"Moderate\",\"Moderate\",\"Moderate\",\"High\",\"High\",\"High\",\"Moderate\",\"High\",\"High\",\"High\",\"High\",\"Moderate\",\"High\",\"High\",\"Moderate\",\"High\",\"High\",\"High\",\"High\",\"High\",\"High\",\"High\",\"High\",\"High\",\"High\",\"High\",\"Moderate\",\"Moderate\",\"Moderate\",\"Moderate\",\"Moderate\",\"Moderate\",\"Moderate\",\"High\",\"High\",\"High\",\"Low\",\"High\",\"High\",\"Moderate\",\"High\",\"High\",\"High\",\"Moderate\",\"Moderate\",\"High\",\"Moderate\",\"High\",\"High\",\"High\",\"High\",\"High\",\"High\",\"High\",\"High\",\"Moderate\",\"Moderate\",\"High\",\"High\",\"High\",\"High\",\"High\",\"High\",\"High\",\"High\",\"High\",\"High\",\"High\",\"Moderate\",\"High\",\"High\",\"Moderate\",\"High\",\"High\",\"High\",\"High\",\"Moderate\",\"High\",\"Low\",\"High\",\"High\",\"Moderate\",\"Moderate\",\"High\",\"High\",\"High\",\"High\",\"High\",\"Moderate\",\"Moderate\",\"High\",\"Moderate\",\"Moderate\",\"Low\",\"High\",\"Moderate\",\"High\",\"High\",\"Moderate\",\"Moderate\",\"High\",\"High\",\"Moderate\",\"Moderate\",\"High\",\"High\",\"Moderate\",\"High\",\"High\",\"High\",\"High\",\"Moderate\",\"High\",\"Low\",\"High\",\"Moderate\",\"High\",\"Moderate\",\"High\",\"High\",\"High\",\"Moderate\",\"High\",\"High\",\"Moderate\",\"High\",\"Moderate\",\"Moderate\",\"Moderate\",\"Moderate\",\"High\",\"High\",\"High\",\"Moderate\",\"High\",\"Moderate\",\"High\",\"High\",\"Moderate\",\"High\",\"High\",\"Moderate\",\"Moderate\",\"High\",\"High\",\"High\",\"High\",\"High\",\"High\",\"High\",\"High\",\"Moderate\",\"High\",\"High\",\"High\",\"Moderate\",\"High\",\"High\",\"High\",\"Moderate\",\"Moderate\",\"High\",\"High\",\"High\",\"High\",\"High\",\"High\",\"High\",\"Moderate\",\"High\",\"High\",\"High\",\"Moderate\",\"High\",\"High\",\"Moderate\",\"High\",\"Moderate\",\"High\",\"High\",\"High\",\"Moderate\",\"High\",\"High\",\"High\",\"High\",\"Low\",\"Moderate\",\"High\",\"High\",\"High\",\"High\",\"High\",\"Moderate\",\"High\",\"High\",\"High\",\"High\",\"High\",\"High\",\"High\",\"High\",\"High\",\"High\",\"High\",\"High\",\"Moderate\",\"High\",\"Moderate\",\"High\",\"High\",\"Low\",\"High\",\"High\",\"High\",\"High\",\"High\",\"High\",\"High\",\"High\",\"High\",\"High\",\"High\",\"High\",\"Low\",\"High\",\"High\",\"High\",\"High\",\"High\",\"Moderate\",\"Moderate\",\"High\",\"High\",\"High\",\"High\",\"High\",\"High\",\"High\",\"High\",\"Moderate\",\"High\",\"High\",\"High\",\"High\",\"High\",\"High\",\"High\",\"High\",\"High\",\"High\",\"High\",\"High\",\"High\",\"High\",\"High\",\"High\",\"High\",\"High\",\"High\",\"High\",\"High\",\"High\",\"High\",\"Low\",\"High\",\"High\",\"High\",\"Moderate\",\"High\",\"High\",\"High\",\"High\",\"Moderate\",\"High\",\"Moderate\",\"Moderate\",\"Low\",\"Moderate\",\"Moderate\",\"Moderate\",\"Moderate\",\"Moderate\",\"High\",\"High\",\"High\",\"High\",\"Moderate\",\"High\",\"High\",\"High\",\"High\",\"High\",\"Moderate\",\"High\",\"High\",\"Moderate\",\"Moderate\",\"Moderate\",\"Moderate\",\"High\",\"High\",\"High\",\"Moderate\",\"Moderate\",\"Moderate\",\"High\",\"Moderate\",\"Moderate\",\"Moderate\",\"High\",\"High\",\"High\",\"Moderate\",\"Moderate\",\"Moderate\",\"High\",\"High\",\"High\",\"Moderate\",\"High\",\"High\",\"Moderate\",\"High\",\"High\",\"Moderate\",\"High\",\"High\",\"High\",\"High\",\"Moderate\",\"Moderate\",\"High\",\"High\",\"Moderate\",\"High\",\"High\",\"High\",\"Moderate\",\"High\",\"Low\",\"Moderate\",\"Moderate\",\"High\",\"High\",\"Moderate\",\"High\",\"Moderate\",\"High\",\"Moderate\",\"High\",\"Moderate\",\"Moderate\",\"High\",\"Low\",\"High\",\"High\",\"Moderate\",\"High\",\"High\",\"Moderate\",\"High\",\"High\",\"Moderate\",\"High\",\"High\",\"Moderate\",\"High\",\"Moderate\",\"High\",\"High\",\"Moderate\",\"High\",\"High\",\"High\",\"High\",\"High\",\"High\",\"High\",\"Moderate\",\"High\",\"High\",\"High\",\"High\",\"Moderate\",\"High\",\"Low\",\"Moderate\",\"High\",\"Moderate\",\"High\",\"High\",\"High\",\"High\",\"Moderate\",\"Moderate\",\"Moderate\",\"High\",\"Moderate\",\"High\",\"High\",\"High\",\"High\",\"Moderate\",\"High\",\"High\",\"High\",\"High\",\"High\",\"High\",\"High\",\"High\",\"Moderate\",\"Moderate\",\"High\",\"High\",\"High\",\"High\",\"High\",\"High\",\"High\",\"High\",\"Low\",\"High\",\"Moderate\",\"High\",\"High\",\"High\",\"High\",\"High\",\"High\",\"High\",\"Moderate\",\"High\",\"High\",\"High\",\"High\",\"High\",\"High\",\"High\",\"High\",\"High\",\"High\",\"High\",\"High\",\"High\",\"High\",\"High\",\"High\",\"High\",\"Moderate\",\"High\",\"Low\",\"High\",\"Moderate\",\"High\",\"High\"],\"legendgroup\":\"\",\"name\":\"\",\"showlegend\":true,\"type\":\"pie\"}],                        {\"template\":{\"data\":{\"histogram2dcontour\":[{\"type\":\"histogram2dcontour\",\"colorbar\":{\"outlinewidth\":0,\"ticks\":\"\"},\"colorscale\":[[0.0,\"#0d0887\"],[0.1111111111111111,\"#46039f\"],[0.2222222222222222,\"#7201a8\"],[0.3333333333333333,\"#9c179e\"],[0.4444444444444444,\"#bd3786\"],[0.5555555555555556,\"#d8576b\"],[0.6666666666666666,\"#ed7953\"],[0.7777777777777778,\"#fb9f3a\"],[0.8888888888888888,\"#fdca26\"],[1.0,\"#f0f921\"]]}],\"choropleth\":[{\"type\":\"choropleth\",\"colorbar\":{\"outlinewidth\":0,\"ticks\":\"\"}}],\"histogram2d\":[{\"type\":\"histogram2d\",\"colorbar\":{\"outlinewidth\":0,\"ticks\":\"\"},\"colorscale\":[[0.0,\"#0d0887\"],[0.1111111111111111,\"#46039f\"],[0.2222222222222222,\"#7201a8\"],[0.3333333333333333,\"#9c179e\"],[0.4444444444444444,\"#bd3786\"],[0.5555555555555556,\"#d8576b\"],[0.6666666666666666,\"#ed7953\"],[0.7777777777777778,\"#fb9f3a\"],[0.8888888888888888,\"#fdca26\"],[1.0,\"#f0f921\"]]}],\"heatmap\":[{\"type\":\"heatmap\",\"colorbar\":{\"outlinewidth\":0,\"ticks\":\"\"},\"colorscale\":[[0.0,\"#0d0887\"],[0.1111111111111111,\"#46039f\"],[0.2222222222222222,\"#7201a8\"],[0.3333333333333333,\"#9c179e\"],[0.4444444444444444,\"#bd3786\"],[0.5555555555555556,\"#d8576b\"],[0.6666666666666666,\"#ed7953\"],[0.7777777777777778,\"#fb9f3a\"],[0.8888888888888888,\"#fdca26\"],[1.0,\"#f0f921\"]]}],\"heatmapgl\":[{\"type\":\"heatmapgl\",\"colorbar\":{\"outlinewidth\":0,\"ticks\":\"\"},\"colorscale\":[[0.0,\"#0d0887\"],[0.1111111111111111,\"#46039f\"],[0.2222222222222222,\"#7201a8\"],[0.3333333333333333,\"#9c179e\"],[0.4444444444444444,\"#bd3786\"],[0.5555555555555556,\"#d8576b\"],[0.6666666666666666,\"#ed7953\"],[0.7777777777777778,\"#fb9f3a\"],[0.8888888888888888,\"#fdca26\"],[1.0,\"#f0f921\"]]}],\"contourcarpet\":[{\"type\":\"contourcarpet\",\"colorbar\":{\"outlinewidth\":0,\"ticks\":\"\"}}],\"contour\":[{\"type\":\"contour\",\"colorbar\":{\"outlinewidth\":0,\"ticks\":\"\"},\"colorscale\":[[0.0,\"#0d0887\"],[0.1111111111111111,\"#46039f\"],[0.2222222222222222,\"#7201a8\"],[0.3333333333333333,\"#9c179e\"],[0.4444444444444444,\"#bd3786\"],[0.5555555555555556,\"#d8576b\"],[0.6666666666666666,\"#ed7953\"],[0.7777777777777778,\"#fb9f3a\"],[0.8888888888888888,\"#fdca26\"],[1.0,\"#f0f921\"]]}],\"surface\":[{\"type\":\"surface\",\"colorbar\":{\"outlinewidth\":0,\"ticks\":\"\"},\"colorscale\":[[0.0,\"#0d0887\"],[0.1111111111111111,\"#46039f\"],[0.2222222222222222,\"#7201a8\"],[0.3333333333333333,\"#9c179e\"],[0.4444444444444444,\"#bd3786\"],[0.5555555555555556,\"#d8576b\"],[0.6666666666666666,\"#ed7953\"],[0.7777777777777778,\"#fb9f3a\"],[0.8888888888888888,\"#fdca26\"],[1.0,\"#f0f921\"]]}],\"mesh3d\":[{\"type\":\"mesh3d\",\"colorbar\":{\"outlinewidth\":0,\"ticks\":\"\"}}],\"scatter\":[{\"fillpattern\":{\"fillmode\":\"overlay\",\"size\":10,\"solidity\":0.2},\"type\":\"scatter\"}],\"parcoords\":[{\"type\":\"parcoords\",\"line\":{\"colorbar\":{\"outlinewidth\":0,\"ticks\":\"\"}}}],\"scatterpolargl\":[{\"type\":\"scatterpolargl\",\"marker\":{\"colorbar\":{\"outlinewidth\":0,\"ticks\":\"\"}}}],\"bar\":[{\"error_x\":{\"color\":\"#2a3f5f\"},\"error_y\":{\"color\":\"#2a3f5f\"},\"marker\":{\"line\":{\"color\":\"#E5ECF6\",\"width\":0.5},\"pattern\":{\"fillmode\":\"overlay\",\"size\":10,\"solidity\":0.2}},\"type\":\"bar\"}],\"scattergeo\":[{\"type\":\"scattergeo\",\"marker\":{\"colorbar\":{\"outlinewidth\":0,\"ticks\":\"\"}}}],\"scatterpolar\":[{\"type\":\"scatterpolar\",\"marker\":{\"colorbar\":{\"outlinewidth\":0,\"ticks\":\"\"}}}],\"histogram\":[{\"marker\":{\"pattern\":{\"fillmode\":\"overlay\",\"size\":10,\"solidity\":0.2}},\"type\":\"histogram\"}],\"scattergl\":[{\"type\":\"scattergl\",\"marker\":{\"colorbar\":{\"outlinewidth\":0,\"ticks\":\"\"}}}],\"scatter3d\":[{\"type\":\"scatter3d\",\"line\":{\"colorbar\":{\"outlinewidth\":0,\"ticks\":\"\"}},\"marker\":{\"colorbar\":{\"outlinewidth\":0,\"ticks\":\"\"}}}],\"scattermapbox\":[{\"type\":\"scattermapbox\",\"marker\":{\"colorbar\":{\"outlinewidth\":0,\"ticks\":\"\"}}}],\"scatterternary\":[{\"type\":\"scatterternary\",\"marker\":{\"colorbar\":{\"outlinewidth\":0,\"ticks\":\"\"}}}],\"scattercarpet\":[{\"type\":\"scattercarpet\",\"marker\":{\"colorbar\":{\"outlinewidth\":0,\"ticks\":\"\"}}}],\"carpet\":[{\"aaxis\":{\"endlinecolor\":\"#2a3f5f\",\"gridcolor\":\"white\",\"linecolor\":\"white\",\"minorgridcolor\":\"white\",\"startlinecolor\":\"#2a3f5f\"},\"baxis\":{\"endlinecolor\":\"#2a3f5f\",\"gridcolor\":\"white\",\"linecolor\":\"white\",\"minorgridcolor\":\"white\",\"startlinecolor\":\"#2a3f5f\"},\"type\":\"carpet\"}],\"table\":[{\"cells\":{\"fill\":{\"color\":\"#EBF0F8\"},\"line\":{\"color\":\"white\"}},\"header\":{\"fill\":{\"color\":\"#C8D4E3\"},\"line\":{\"color\":\"white\"}},\"type\":\"table\"}],\"barpolar\":[{\"marker\":{\"line\":{\"color\":\"#E5ECF6\",\"width\":0.5},\"pattern\":{\"fillmode\":\"overlay\",\"size\":10,\"solidity\":0.2}},\"type\":\"barpolar\"}],\"pie\":[{\"automargin\":true,\"type\":\"pie\"}]},\"layout\":{\"autotypenumbers\":\"strict\",\"colorway\":[\"#636efa\",\"#EF553B\",\"#00cc96\",\"#ab63fa\",\"#FFA15A\",\"#19d3f3\",\"#FF6692\",\"#B6E880\",\"#FF97FF\",\"#FECB52\"],\"font\":{\"color\":\"#2a3f5f\"},\"hovermode\":\"closest\",\"hoverlabel\":{\"align\":\"left\"},\"paper_bgcolor\":\"white\",\"plot_bgcolor\":\"#E5ECF6\",\"polar\":{\"bgcolor\":\"#E5ECF6\",\"angularaxis\":{\"gridcolor\":\"white\",\"linecolor\":\"white\",\"ticks\":\"\"},\"radialaxis\":{\"gridcolor\":\"white\",\"linecolor\":\"white\",\"ticks\":\"\"}},\"ternary\":{\"bgcolor\":\"#E5ECF6\",\"aaxis\":{\"gridcolor\":\"white\",\"linecolor\":\"white\",\"ticks\":\"\"},\"baxis\":{\"gridcolor\":\"white\",\"linecolor\":\"white\",\"ticks\":\"\"},\"caxis\":{\"gridcolor\":\"white\",\"linecolor\":\"white\",\"ticks\":\"\"}},\"coloraxis\":{\"colorbar\":{\"outlinewidth\":0,\"ticks\":\"\"}},\"colorscale\":{\"sequential\":[[0.0,\"#0d0887\"],[0.1111111111111111,\"#46039f\"],[0.2222222222222222,\"#7201a8\"],[0.3333333333333333,\"#9c179e\"],[0.4444444444444444,\"#bd3786\"],[0.5555555555555556,\"#d8576b\"],[0.6666666666666666,\"#ed7953\"],[0.7777777777777778,\"#fb9f3a\"],[0.8888888888888888,\"#fdca26\"],[1.0,\"#f0f921\"]],\"sequentialminus\":[[0.0,\"#0d0887\"],[0.1111111111111111,\"#46039f\"],[0.2222222222222222,\"#7201a8\"],[0.3333333333333333,\"#9c179e\"],[0.4444444444444444,\"#bd3786\"],[0.5555555555555556,\"#d8576b\"],[0.6666666666666666,\"#ed7953\"],[0.7777777777777778,\"#fb9f3a\"],[0.8888888888888888,\"#fdca26\"],[1.0,\"#f0f921\"]],\"diverging\":[[0,\"#8e0152\"],[0.1,\"#c51b7d\"],[0.2,\"#de77ae\"],[0.3,\"#f1b6da\"],[0.4,\"#fde0ef\"],[0.5,\"#f7f7f7\"],[0.6,\"#e6f5d0\"],[0.7,\"#b8e186\"],[0.8,\"#7fbc41\"],[0.9,\"#4d9221\"],[1,\"#276419\"]]},\"xaxis\":{\"gridcolor\":\"white\",\"linecolor\":\"white\",\"ticks\":\"\",\"title\":{\"standoff\":15},\"zerolinecolor\":\"white\",\"automargin\":true,\"zerolinewidth\":2},\"yaxis\":{\"gridcolor\":\"white\",\"linecolor\":\"white\",\"ticks\":\"\",\"title\":{\"standoff\":15},\"zerolinecolor\":\"white\",\"automargin\":true,\"zerolinewidth\":2},\"scene\":{\"xaxis\":{\"backgroundcolor\":\"#E5ECF6\",\"gridcolor\":\"white\",\"linecolor\":\"white\",\"showbackground\":true,\"ticks\":\"\",\"zerolinecolor\":\"white\",\"gridwidth\":2},\"yaxis\":{\"backgroundcolor\":\"#E5ECF6\",\"gridcolor\":\"white\",\"linecolor\":\"white\",\"showbackground\":true,\"ticks\":\"\",\"zerolinecolor\":\"white\",\"gridwidth\":2},\"zaxis\":{\"backgroundcolor\":\"#E5ECF6\",\"gridcolor\":\"white\",\"linecolor\":\"white\",\"showbackground\":true,\"ticks\":\"\",\"zerolinecolor\":\"white\",\"gridwidth\":2}},\"shapedefaults\":{\"line\":{\"color\":\"#2a3f5f\"}},\"annotationdefaults\":{\"arrowcolor\":\"#2a3f5f\",\"arrowhead\":0,\"arrowwidth\":1},\"geo\":{\"bgcolor\":\"white\",\"landcolor\":\"#E5ECF6\",\"subunitcolor\":\"white\",\"showland\":true,\"showlakes\":true,\"lakecolor\":\"white\"},\"title\":{\"x\":0.05},\"mapbox\":{\"style\":\"light\"}}},\"legend\":{\"tracegroupgap\":0},\"title\":{\"text\":\"Fall Risk Level Analysis\"},\"width\":800,\"height\":600},                        {\"responsive\": true}                    ).then(function(){\n",
       "                            \n",
       "var gd = document.getElementById('36065057-2828-4603-8695-7843c2c94987');\n",
       "var x = new MutationObserver(function (mutations, observer) {{\n",
       "        var display = window.getComputedStyle(gd).display;\n",
       "        if (!display || display === 'none') {{\n",
       "            console.log([gd, 'removed!']);\n",
       "            Plotly.purge(gd);\n",
       "            observer.disconnect();\n",
       "        }}\n",
       "}});\n",
       "\n",
       "// Listen for the removal of the full notebook cells\n",
       "var notebookContainer = gd.closest('#notebook-container');\n",
       "if (notebookContainer) {{\n",
       "    x.observe(notebookContainer, {childList: true});\n",
       "}}\n",
       "\n",
       "// Listen for the clearing of the current output cell\n",
       "var outputEl = gd.closest('.output');\n",
       "if (outputEl) {{\n",
       "    x.observe(outputEl, {childList: true});\n",
       "}}\n",
       "\n",
       "                        })                };                });            </script>        </div>"
      ]
     },
     "metadata": {},
     "output_type": "display_data"
    }
   ],
   "source": [
    "import plotly.express as px\n",
    "\n",
    "\n",
    "fig = px.pie(df, names='Fall risk level', title='Fall Risk Level Analysis')\n",
    "\n",
    "fig.update_layout(width=800, height=600)\n",
    "\n",
    "# Show the plot\n",
    "fig.show()\n"
   ]
  },
  {
   "cell_type": "code",
   "execution_count": 13,
   "id": "19ac9e49",
   "metadata": {},
   "outputs": [
    {
     "data": {
      "application/vnd.plotly.v1+json": {
       "config": {
        "plotlyServerURL": "https://plot.ly"
       },
       "data": [
        {
         "domain": {
          "x": [
           0,
           1
          ],
          "y": [
           0,
           1
          ]
         },
         "hovertemplate": "Type of injury incurred, if any=%{label}<extra></extra>",
         "labels": [
          "Fracture",
          "Bruising",
          "cut",
          "no injury",
          "no injury",
          "cut",
          "no injury",
          "EDEMA",
          "no injury",
          "cut",
          "no injury",
          "no injury",
          "HEMATOMA ",
          "no injury",
          "no injury",
          "no injury",
          "EDEMA",
          "no injury",
          "no injury",
          "no injury",
          "no injury",
          "no injury",
          "no injury",
          "no injury",
          "cut",
          "no injury",
          "no injury",
          "excoriation",
          "no injury",
          "no injury",
          "no injury",
          "no injury",
          "no injury",
          "Fracture",
          "no injury",
          "no injury",
          "no injury",
          "no injury",
          "no injury",
          "no injury",
          "no injury",
          "excoriation",
          "no injury",
          "excoriation",
          "no injury",
          "no injury",
          "no injury",
          "no injury",
          "no injury",
          "no injury",
          "no injury",
          "no injury",
          "no injury",
          "EDEMA",
          "no injury",
          "no injury",
          "excoriation",
          "no injury",
          "no injury",
          "no injury",
          "no injury",
          "no injury",
          "no injury",
          "no injury",
          "no injury",
          "no injury",
          "excoriation",
          "no injury",
          "no injury",
          "no injury",
          "no injury",
          "no injury",
          "no injury",
          "no injury",
          "no injury",
          "no injury",
          "no injury",
          "Fracture",
          "no injury",
          "no injury",
          "no injury",
          "no injury",
          "no injury",
          "no injury",
          "Head trauma ",
          "no injury",
          "cut",
          "no injury",
          "no injury",
          "no injury",
          "no injury",
          "excoriation",
          "no injury",
          "no injury",
          "no injury",
          "no injury",
          "no injury",
          "HEMATOMA",
          "excoriation",
          "cut",
          "no injury",
          "no injury",
          "no injury",
          "no injury",
          "excoriation",
          "no injury",
          "EDEMA",
          "no injury",
          "no injury",
          "excoriation",
          "cut",
          "no injury",
          "no injury",
          "EDEMA",
          "no injury",
          "excoriation",
          "no injury",
          "no injury",
          "HEMATOMA",
          "no injury",
          "no injury",
          "no injury",
          "no injury",
          "no injury",
          "HEMATOMA",
          "no injury",
          "excoriation",
          "no injury",
          "excoriation",
          "no injury",
          "no injury",
          "excoriation",
          "no injury",
          "excoriation",
          "no injury",
          "no injury",
          "no injury",
          "no injury",
          "no injury",
          "HEMATOMA ",
          "no injury",
          "no injury",
          "no injury",
          "HEMATOMA",
          "excoriation",
          "cut",
          "cut",
          "no injury",
          "no injury",
          "cut",
          "no injury",
          "no injury",
          "no injury",
          "no injury",
          "cut",
          "no injury",
          "no injury",
          "no injury",
          "no injury",
          "no injury",
          "no injury",
          "no injury",
          "no injury",
          "no injury",
          "no injury",
          "no injury",
          "no injury",
          "excoriation",
          "cut",
          "no injury",
          "no injury",
          "no injury",
          "no injury",
          "no injury",
          "no injury",
          "no injury",
          "cut",
          "excoriation",
          "no injury",
          "cut",
          "no injury",
          "no injury",
          "no injury",
          "excoriation",
          "no injury",
          "excoriation",
          "Bruising",
          "Head trauma ",
          "no injury",
          "no injury",
          "no injury",
          "no injury",
          "no injury",
          "no injury",
          "no injury",
          "no injury",
          "no injury",
          "no injury",
          "no injury",
          "no injury",
          "no injury",
          "excoriation",
          "no injury",
          "no injury",
          "no injury",
          "excoriation",
          "no injury",
          "no injury",
          "no injury",
          "no injury",
          "no injury",
          "no injury",
          "cut",
          "cut",
          "excoriation",
          "excoriation",
          "Fracture",
          "no injury",
          "no injury",
          "no injury",
          "no injury",
          "no injury",
          "no injury",
          "no injury",
          "cut",
          "no injury",
          "no injury",
          "no injury",
          "no injury",
          "no injury",
          "no injury",
          "no injury",
          "no injury",
          "excoriation",
          "no injury",
          "no injury",
          "no injury",
          "cut",
          "excoriation",
          "no injury",
          "HEMATOMA",
          "no injury",
          "no injury",
          "no injury",
          "Bruising",
          "Bruising",
          "no injury",
          "no injury",
          "no injury",
          "cut",
          "EDEMA",
          "cut",
          "no injury",
          "no injury",
          "no injury",
          "no injury",
          "cut",
          "no injury",
          "no injury",
          "no injury",
          "EDEMA",
          "no injury",
          "no injury",
          "no injury",
          "no injury",
          "no injury",
          "no injury",
          "no injury",
          "no injury",
          "no injury",
          "no injury",
          "excoriation",
          "no injury",
          "no injury",
          "no injury",
          "EDEMA",
          "Bruising",
          "no injury",
          "no injury",
          "no injury",
          "no injury",
          "no injury",
          "no injury",
          "no injury",
          "excoriation",
          "no injury",
          "no injury",
          "no injury",
          "no injury",
          "no injury",
          "no injury",
          "no injury",
          "no injury",
          "no injury",
          "Bruising",
          "HEMATOMA",
          "no injury",
          "excoriation",
          "no injury",
          "no injury",
          "HEMATOMA",
          "no injury",
          "no injury",
          "no injury",
          "no injury",
          "no injury",
          "no injury",
          "no injury",
          "cut",
          "HEMATOMA",
          "no injury",
          "no injury",
          "excoriation",
          "cut",
          "excoriation",
          "no injury",
          "no injury",
          "cut",
          "no injury",
          "no injury",
          "excoriation",
          "no injury",
          "no injury",
          "Fracture",
          "no injury",
          "no injury",
          "no injury",
          "no injury",
          "excoriation",
          "no injury",
          "excoriation",
          "no injury",
          "no injury",
          "no injury",
          "no injury",
          "no injury",
          "excoriation",
          "no injury",
          "cut",
          "no injury",
          "no injury",
          "excoriation",
          "no injury",
          "no injury",
          "no injury",
          "no injury",
          "no injury",
          "no injury",
          "excoriation",
          "no injury",
          "no injury",
          "no injury",
          "no injury",
          "no injury",
          "HEMATOMA",
          "excoriation",
          "no injury",
          "Bruising",
          "no injury",
          "no injury",
          "no injury",
          "HEMATOMA",
          "excoriation",
          "Head trauma ",
          "no injury",
          "no injury",
          "Bruising",
          "excoriation",
          "no injury",
          "no injury",
          "excoriation",
          "no injury",
          "excoriation",
          "no injury",
          "no injury",
          "no injury",
          "no injury",
          "no injury",
          "no injury",
          "no injury",
          "cut",
          "no injury",
          "no injury",
          "no injury",
          "excoriation",
          "no injury",
          "HEMATOMA",
          "excoriation",
          "no injury",
          "no injury",
          "no injury",
          "no injury",
          "HEMATOMA",
          "no injury",
          "no injury",
          "no injury",
          "excoriation",
          "no injury",
          "no injury",
          "no injury",
          "no injury",
          "no injury",
          "no injury",
          "no injury",
          "Bruising",
          "no injury",
          "excoriation",
          "no injury",
          "no injury",
          "cut",
          "no injury",
          "no injury",
          "excoriation",
          "no injury",
          "no injury",
          "no injury",
          "no injury",
          "no injury",
          "no injury",
          "no injury",
          "no injury",
          "no injury",
          "no injury",
          "no injury",
          "no injury",
          "no injury",
          "no injury",
          "Head trauma ",
          "no injury",
          "no injury",
          "no injury",
          "no injury",
          "no injury",
          "HEMATOMA",
          "no injury",
          "no injury",
          "no injury",
          "no injury",
          "excoriation",
          "no injury",
          "no injury",
          "no injury",
          "no injury",
          "excoriation",
          "no injury",
          "no injury",
          "cut",
          "cut",
          "no injury",
          "no injury",
          "no injury",
          "no injury",
          "no injury",
          "no injury",
          "no injury",
          "no injury",
          "no injury",
          "no injury",
          "no injury",
          "no injury",
          "no injury",
          "no injury",
          "no injury",
          "no injury",
          "excoriation",
          "no injury",
          "no injury",
          "no injury",
          "no injury",
          "no injury",
          "no injury",
          "no injury",
          "no injury",
          "no injury",
          "cut",
          "no injury",
          "Bruising",
          "no injury",
          "Fracture",
          "no injury",
          "no injury",
          "no injury",
          "Fracture",
          "no injury",
          "no injury",
          "no injury",
          "no injury",
          "Bruising",
          "no injury",
          "no injury",
          "excoriation",
          "HEMATOMA",
          "no injury",
          "Fracture",
          "Wound dehiscence",
          "no injury",
          "no injury",
          "no injury",
          "no injury",
          "excoriation",
          "no injury",
          "no injury",
          "no injury",
          "no injury",
          "no injury",
          "excoriation",
          "no injury",
          "no injury",
          "excoriation",
          "no injury",
          "no injury",
          "cut",
          "EDEMA",
          "no injury",
          "no injury",
          "no injury",
          "no injury",
          "no injury",
          "no injury",
          "no injury",
          "no injury",
          "no injury",
          "excoriation",
          "no injury",
          "no injury",
          "no injury",
          "no injury",
          "no injury",
          "no injury",
          "excoriation",
          "excoriation",
          "excoriation",
          "no injury",
          "no injury",
          "no injury",
          "no injury",
          "no injury",
          "no injury",
          "no injury",
          "no injury",
          "no injury",
          "no injury",
          "HEMATOMA",
          "no injury",
          "HEMATOMA",
          "no injury",
          "excoriation",
          "no injury",
          "no injury",
          "no injury",
          "no injury",
          "no injury",
          "no injury",
          "HEMATOMA",
          "excoriation",
          "Bruising",
          "excoriation",
          "no injury"
         ],
         "legendgroup": "",
         "name": "",
         "showlegend": true,
         "type": "pie"
        }
       ],
       "layout": {
        "height": 600,
        "legend": {
         "tracegroupgap": 0
        },
        "template": {
         "data": {
          "bar": [
           {
            "error_x": {
             "color": "#2a3f5f"
            },
            "error_y": {
             "color": "#2a3f5f"
            },
            "marker": {
             "line": {
              "color": "#E5ECF6",
              "width": 0.5
             },
             "pattern": {
              "fillmode": "overlay",
              "size": 10,
              "solidity": 0.2
             }
            },
            "type": "bar"
           }
          ],
          "barpolar": [
           {
            "marker": {
             "line": {
              "color": "#E5ECF6",
              "width": 0.5
             },
             "pattern": {
              "fillmode": "overlay",
              "size": 10,
              "solidity": 0.2
             }
            },
            "type": "barpolar"
           }
          ],
          "carpet": [
           {
            "aaxis": {
             "endlinecolor": "#2a3f5f",
             "gridcolor": "white",
             "linecolor": "white",
             "minorgridcolor": "white",
             "startlinecolor": "#2a3f5f"
            },
            "baxis": {
             "endlinecolor": "#2a3f5f",
             "gridcolor": "white",
             "linecolor": "white",
             "minorgridcolor": "white",
             "startlinecolor": "#2a3f5f"
            },
            "type": "carpet"
           }
          ],
          "choropleth": [
           {
            "colorbar": {
             "outlinewidth": 0,
             "ticks": ""
            },
            "type": "choropleth"
           }
          ],
          "contour": [
           {
            "colorbar": {
             "outlinewidth": 0,
             "ticks": ""
            },
            "colorscale": [
             [
              0,
              "#0d0887"
             ],
             [
              0.1111111111111111,
              "#46039f"
             ],
             [
              0.2222222222222222,
              "#7201a8"
             ],
             [
              0.3333333333333333,
              "#9c179e"
             ],
             [
              0.4444444444444444,
              "#bd3786"
             ],
             [
              0.5555555555555556,
              "#d8576b"
             ],
             [
              0.6666666666666666,
              "#ed7953"
             ],
             [
              0.7777777777777778,
              "#fb9f3a"
             ],
             [
              0.8888888888888888,
              "#fdca26"
             ],
             [
              1,
              "#f0f921"
             ]
            ],
            "type": "contour"
           }
          ],
          "contourcarpet": [
           {
            "colorbar": {
             "outlinewidth": 0,
             "ticks": ""
            },
            "type": "contourcarpet"
           }
          ],
          "heatmap": [
           {
            "colorbar": {
             "outlinewidth": 0,
             "ticks": ""
            },
            "colorscale": [
             [
              0,
              "#0d0887"
             ],
             [
              0.1111111111111111,
              "#46039f"
             ],
             [
              0.2222222222222222,
              "#7201a8"
             ],
             [
              0.3333333333333333,
              "#9c179e"
             ],
             [
              0.4444444444444444,
              "#bd3786"
             ],
             [
              0.5555555555555556,
              "#d8576b"
             ],
             [
              0.6666666666666666,
              "#ed7953"
             ],
             [
              0.7777777777777778,
              "#fb9f3a"
             ],
             [
              0.8888888888888888,
              "#fdca26"
             ],
             [
              1,
              "#f0f921"
             ]
            ],
            "type": "heatmap"
           }
          ],
          "heatmapgl": [
           {
            "colorbar": {
             "outlinewidth": 0,
             "ticks": ""
            },
            "colorscale": [
             [
              0,
              "#0d0887"
             ],
             [
              0.1111111111111111,
              "#46039f"
             ],
             [
              0.2222222222222222,
              "#7201a8"
             ],
             [
              0.3333333333333333,
              "#9c179e"
             ],
             [
              0.4444444444444444,
              "#bd3786"
             ],
             [
              0.5555555555555556,
              "#d8576b"
             ],
             [
              0.6666666666666666,
              "#ed7953"
             ],
             [
              0.7777777777777778,
              "#fb9f3a"
             ],
             [
              0.8888888888888888,
              "#fdca26"
             ],
             [
              1,
              "#f0f921"
             ]
            ],
            "type": "heatmapgl"
           }
          ],
          "histogram": [
           {
            "marker": {
             "pattern": {
              "fillmode": "overlay",
              "size": 10,
              "solidity": 0.2
             }
            },
            "type": "histogram"
           }
          ],
          "histogram2d": [
           {
            "colorbar": {
             "outlinewidth": 0,
             "ticks": ""
            },
            "colorscale": [
             [
              0,
              "#0d0887"
             ],
             [
              0.1111111111111111,
              "#46039f"
             ],
             [
              0.2222222222222222,
              "#7201a8"
             ],
             [
              0.3333333333333333,
              "#9c179e"
             ],
             [
              0.4444444444444444,
              "#bd3786"
             ],
             [
              0.5555555555555556,
              "#d8576b"
             ],
             [
              0.6666666666666666,
              "#ed7953"
             ],
             [
              0.7777777777777778,
              "#fb9f3a"
             ],
             [
              0.8888888888888888,
              "#fdca26"
             ],
             [
              1,
              "#f0f921"
             ]
            ],
            "type": "histogram2d"
           }
          ],
          "histogram2dcontour": [
           {
            "colorbar": {
             "outlinewidth": 0,
             "ticks": ""
            },
            "colorscale": [
             [
              0,
              "#0d0887"
             ],
             [
              0.1111111111111111,
              "#46039f"
             ],
             [
              0.2222222222222222,
              "#7201a8"
             ],
             [
              0.3333333333333333,
              "#9c179e"
             ],
             [
              0.4444444444444444,
              "#bd3786"
             ],
             [
              0.5555555555555556,
              "#d8576b"
             ],
             [
              0.6666666666666666,
              "#ed7953"
             ],
             [
              0.7777777777777778,
              "#fb9f3a"
             ],
             [
              0.8888888888888888,
              "#fdca26"
             ],
             [
              1,
              "#f0f921"
             ]
            ],
            "type": "histogram2dcontour"
           }
          ],
          "mesh3d": [
           {
            "colorbar": {
             "outlinewidth": 0,
             "ticks": ""
            },
            "type": "mesh3d"
           }
          ],
          "parcoords": [
           {
            "line": {
             "colorbar": {
              "outlinewidth": 0,
              "ticks": ""
             }
            },
            "type": "parcoords"
           }
          ],
          "pie": [
           {
            "automargin": true,
            "type": "pie"
           }
          ],
          "scatter": [
           {
            "fillpattern": {
             "fillmode": "overlay",
             "size": 10,
             "solidity": 0.2
            },
            "type": "scatter"
           }
          ],
          "scatter3d": [
           {
            "line": {
             "colorbar": {
              "outlinewidth": 0,
              "ticks": ""
             }
            },
            "marker": {
             "colorbar": {
              "outlinewidth": 0,
              "ticks": ""
             }
            },
            "type": "scatter3d"
           }
          ],
          "scattercarpet": [
           {
            "marker": {
             "colorbar": {
              "outlinewidth": 0,
              "ticks": ""
             }
            },
            "type": "scattercarpet"
           }
          ],
          "scattergeo": [
           {
            "marker": {
             "colorbar": {
              "outlinewidth": 0,
              "ticks": ""
             }
            },
            "type": "scattergeo"
           }
          ],
          "scattergl": [
           {
            "marker": {
             "colorbar": {
              "outlinewidth": 0,
              "ticks": ""
             }
            },
            "type": "scattergl"
           }
          ],
          "scattermapbox": [
           {
            "marker": {
             "colorbar": {
              "outlinewidth": 0,
              "ticks": ""
             }
            },
            "type": "scattermapbox"
           }
          ],
          "scatterpolar": [
           {
            "marker": {
             "colorbar": {
              "outlinewidth": 0,
              "ticks": ""
             }
            },
            "type": "scatterpolar"
           }
          ],
          "scatterpolargl": [
           {
            "marker": {
             "colorbar": {
              "outlinewidth": 0,
              "ticks": ""
             }
            },
            "type": "scatterpolargl"
           }
          ],
          "scatterternary": [
           {
            "marker": {
             "colorbar": {
              "outlinewidth": 0,
              "ticks": ""
             }
            },
            "type": "scatterternary"
           }
          ],
          "surface": [
           {
            "colorbar": {
             "outlinewidth": 0,
             "ticks": ""
            },
            "colorscale": [
             [
              0,
              "#0d0887"
             ],
             [
              0.1111111111111111,
              "#46039f"
             ],
             [
              0.2222222222222222,
              "#7201a8"
             ],
             [
              0.3333333333333333,
              "#9c179e"
             ],
             [
              0.4444444444444444,
              "#bd3786"
             ],
             [
              0.5555555555555556,
              "#d8576b"
             ],
             [
              0.6666666666666666,
              "#ed7953"
             ],
             [
              0.7777777777777778,
              "#fb9f3a"
             ],
             [
              0.8888888888888888,
              "#fdca26"
             ],
             [
              1,
              "#f0f921"
             ]
            ],
            "type": "surface"
           }
          ],
          "table": [
           {
            "cells": {
             "fill": {
              "color": "#EBF0F8"
             },
             "line": {
              "color": "white"
             }
            },
            "header": {
             "fill": {
              "color": "#C8D4E3"
             },
             "line": {
              "color": "white"
             }
            },
            "type": "table"
           }
          ]
         },
         "layout": {
          "annotationdefaults": {
           "arrowcolor": "#2a3f5f",
           "arrowhead": 0,
           "arrowwidth": 1
          },
          "autotypenumbers": "strict",
          "coloraxis": {
           "colorbar": {
            "outlinewidth": 0,
            "ticks": ""
           }
          },
          "colorscale": {
           "diverging": [
            [
             0,
             "#8e0152"
            ],
            [
             0.1,
             "#c51b7d"
            ],
            [
             0.2,
             "#de77ae"
            ],
            [
             0.3,
             "#f1b6da"
            ],
            [
             0.4,
             "#fde0ef"
            ],
            [
             0.5,
             "#f7f7f7"
            ],
            [
             0.6,
             "#e6f5d0"
            ],
            [
             0.7,
             "#b8e186"
            ],
            [
             0.8,
             "#7fbc41"
            ],
            [
             0.9,
             "#4d9221"
            ],
            [
             1,
             "#276419"
            ]
           ],
           "sequential": [
            [
             0,
             "#0d0887"
            ],
            [
             0.1111111111111111,
             "#46039f"
            ],
            [
             0.2222222222222222,
             "#7201a8"
            ],
            [
             0.3333333333333333,
             "#9c179e"
            ],
            [
             0.4444444444444444,
             "#bd3786"
            ],
            [
             0.5555555555555556,
             "#d8576b"
            ],
            [
             0.6666666666666666,
             "#ed7953"
            ],
            [
             0.7777777777777778,
             "#fb9f3a"
            ],
            [
             0.8888888888888888,
             "#fdca26"
            ],
            [
             1,
             "#f0f921"
            ]
           ],
           "sequentialminus": [
            [
             0,
             "#0d0887"
            ],
            [
             0.1111111111111111,
             "#46039f"
            ],
            [
             0.2222222222222222,
             "#7201a8"
            ],
            [
             0.3333333333333333,
             "#9c179e"
            ],
            [
             0.4444444444444444,
             "#bd3786"
            ],
            [
             0.5555555555555556,
             "#d8576b"
            ],
            [
             0.6666666666666666,
             "#ed7953"
            ],
            [
             0.7777777777777778,
             "#fb9f3a"
            ],
            [
             0.8888888888888888,
             "#fdca26"
            ],
            [
             1,
             "#f0f921"
            ]
           ]
          },
          "colorway": [
           "#636efa",
           "#EF553B",
           "#00cc96",
           "#ab63fa",
           "#FFA15A",
           "#19d3f3",
           "#FF6692",
           "#B6E880",
           "#FF97FF",
           "#FECB52"
          ],
          "font": {
           "color": "#2a3f5f"
          },
          "geo": {
           "bgcolor": "white",
           "lakecolor": "white",
           "landcolor": "#E5ECF6",
           "showlakes": true,
           "showland": true,
           "subunitcolor": "white"
          },
          "hoverlabel": {
           "align": "left"
          },
          "hovermode": "closest",
          "mapbox": {
           "style": "light"
          },
          "paper_bgcolor": "white",
          "plot_bgcolor": "#E5ECF6",
          "polar": {
           "angularaxis": {
            "gridcolor": "white",
            "linecolor": "white",
            "ticks": ""
           },
           "bgcolor": "#E5ECF6",
           "radialaxis": {
            "gridcolor": "white",
            "linecolor": "white",
            "ticks": ""
           }
          },
          "scene": {
           "xaxis": {
            "backgroundcolor": "#E5ECF6",
            "gridcolor": "white",
            "gridwidth": 2,
            "linecolor": "white",
            "showbackground": true,
            "ticks": "",
            "zerolinecolor": "white"
           },
           "yaxis": {
            "backgroundcolor": "#E5ECF6",
            "gridcolor": "white",
            "gridwidth": 2,
            "linecolor": "white",
            "showbackground": true,
            "ticks": "",
            "zerolinecolor": "white"
           },
           "zaxis": {
            "backgroundcolor": "#E5ECF6",
            "gridcolor": "white",
            "gridwidth": 2,
            "linecolor": "white",
            "showbackground": true,
            "ticks": "",
            "zerolinecolor": "white"
           }
          },
          "shapedefaults": {
           "line": {
            "color": "#2a3f5f"
           }
          },
          "ternary": {
           "aaxis": {
            "gridcolor": "white",
            "linecolor": "white",
            "ticks": ""
           },
           "baxis": {
            "gridcolor": "white",
            "linecolor": "white",
            "ticks": ""
           },
           "bgcolor": "#E5ECF6",
           "caxis": {
            "gridcolor": "white",
            "linecolor": "white",
            "ticks": ""
           }
          },
          "title": {
           "x": 0.05
          },
          "xaxis": {
           "automargin": true,
           "gridcolor": "white",
           "linecolor": "white",
           "ticks": "",
           "title": {
            "standoff": 15
           },
           "zerolinecolor": "white",
           "zerolinewidth": 2
          },
          "yaxis": {
           "automargin": true,
           "gridcolor": "white",
           "linecolor": "white",
           "ticks": "",
           "title": {
            "standoff": 15
           },
           "zerolinecolor": "white",
           "zerolinewidth": 2
          }
         }
        },
        "title": {
         "text": "Types of Injuries"
        },
        "width": 800
       }
      },
      "text/html": [
       "<div>                            <div id=\"64fb8d8c-ffef-415e-9e05-1adecf1d7154\" class=\"plotly-graph-div\" style=\"height:600px; width:800px;\"></div>            <script type=\"text/javascript\">                require([\"plotly\"], function(Plotly) {                    window.PLOTLYENV=window.PLOTLYENV || {};                                    if (document.getElementById(\"64fb8d8c-ffef-415e-9e05-1adecf1d7154\")) {                    Plotly.newPlot(                        \"64fb8d8c-ffef-415e-9e05-1adecf1d7154\",                        [{\"domain\":{\"x\":[0.0,1.0],\"y\":[0.0,1.0]},\"hovertemplate\":\"Type of injury incurred, if any=%{label}<extra></extra>\",\"labels\":[\"Fracture\",\"Bruising\",\"cut\",\"no injury\",\"no injury\",\"cut\",\"no injury\",\"EDEMA\",\"no injury\",\"cut\",\"no injury\",\"no injury\",\"HEMATOMA \",\"no injury\",\"no injury\",\"no injury\",\"EDEMA\",\"no injury\",\"no injury\",\"no injury\",\"no injury\",\"no injury\",\"no injury\",\"no injury\",\"cut\",\"no injury\",\"no injury\",\"excoriation\",\"no injury\",\"no injury\",\"no injury\",\"no injury\",\"no injury\",\"Fracture\",\"no injury\",\"no injury\",\"no injury\",\"no injury\",\"no injury\",\"no injury\",\"no injury\",\"excoriation\",\"no injury\",\"excoriation\",\"no injury\",\"no injury\",\"no injury\",\"no injury\",\"no injury\",\"no injury\",\"no injury\",\"no injury\",\"no injury\",\"EDEMA\",\"no injury\",\"no injury\",\"excoriation\",\"no injury\",\"no injury\",\"no injury\",\"no injury\",\"no injury\",\"no injury\",\"no injury\",\"no injury\",\"no injury\",\"excoriation\",\"no injury\",\"no injury\",\"no injury\",\"no injury\",\"no injury\",\"no injury\",\"no injury\",\"no injury\",\"no injury\",\"no injury\",\"Fracture\",\"no injury\",\"no injury\",\"no injury\",\"no injury\",\"no injury\",\"no injury\",\"Head trauma \",\"no injury\",\"cut\",\"no injury\",\"no injury\",\"no injury\",\"no injury\",\"excoriation\",\"no injury\",\"no injury\",\"no injury\",\"no injury\",\"no injury\",\"HEMATOMA\",\"excoriation\",\"cut\",\"no injury\",\"no injury\",\"no injury\",\"no injury\",\"excoriation\",\"no injury\",\"EDEMA\",\"no injury\",\"no injury\",\"excoriation\",\"cut\",\"no injury\",\"no injury\",\"EDEMA\",\"no injury\",\"excoriation\",\"no injury\",\"no injury\",\"HEMATOMA\",\"no injury\",\"no injury\",\"no injury\",\"no injury\",\"no injury\",\"HEMATOMA\",\"no injury\",\"excoriation\",\"no injury\",\"excoriation\",\"no injury\",\"no injury\",\"excoriation\",\"no injury\",\"excoriation\",\"no injury\",\"no injury\",\"no injury\",\"no injury\",\"no injury\",\"HEMATOMA \",\"no injury\",\"no injury\",\"no injury\",\"HEMATOMA\",\"excoriation\",\"cut\",\"cut\",\"no injury\",\"no injury\",\"cut\",\"no injury\",\"no injury\",\"no injury\",\"no injury\",\"cut\",\"no injury\",\"no injury\",\"no injury\",\"no injury\",\"no injury\",\"no injury\",\"no injury\",\"no injury\",\"no injury\",\"no injury\",\"no injury\",\"no injury\",\"excoriation\",\"cut\",\"no injury\",\"no injury\",\"no injury\",\"no injury\",\"no injury\",\"no injury\",\"no injury\",\"cut\",\"excoriation\",\"no injury\",\"cut\",\"no injury\",\"no injury\",\"no injury\",\"excoriation\",\"no injury\",\"excoriation\",\"Bruising\",\"Head trauma \",\"no injury\",\"no injury\",\"no injury\",\"no injury\",\"no injury\",\"no injury\",\"no injury\",\"no injury\",\"no injury\",\"no injury\",\"no injury\",\"no injury\",\"no injury\",\"excoriation\",\"no injury\",\"no injury\",\"no injury\",\"excoriation\",\"no injury\",\"no injury\",\"no injury\",\"no injury\",\"no injury\",\"no injury\",\"cut\",\"cut\",\"excoriation\",\"excoriation\",\"Fracture\",\"no injury\",\"no injury\",\"no injury\",\"no injury\",\"no injury\",\"no injury\",\"no injury\",\"cut\",\"no injury\",\"no injury\",\"no injury\",\"no injury\",\"no injury\",\"no injury\",\"no injury\",\"no injury\",\"excoriation\",\"no injury\",\"no injury\",\"no injury\",\"cut\",\"excoriation\",\"no injury\",\"HEMATOMA\",\"no injury\",\"no injury\",\"no injury\",\"Bruising\",\"Bruising\",\"no injury\",\"no injury\",\"no injury\",\"cut\",\"EDEMA\",\"cut\",\"no injury\",\"no injury\",\"no injury\",\"no injury\",\"cut\",\"no injury\",\"no injury\",\"no injury\",\"EDEMA\",\"no injury\",\"no injury\",\"no injury\",\"no injury\",\"no injury\",\"no injury\",\"no injury\",\"no injury\",\"no injury\",\"no injury\",\"excoriation\",\"no injury\",\"no injury\",\"no injury\",\"EDEMA\",\"Bruising\",\"no injury\",\"no injury\",\"no injury\",\"no injury\",\"no injury\",\"no injury\",\"no injury\",\"excoriation\",\"no injury\",\"no injury\",\"no injury\",\"no injury\",\"no injury\",\"no injury\",\"no injury\",\"no injury\",\"no injury\",\"Bruising\",\"HEMATOMA\",\"no injury\",\"excoriation\",\"no injury\",\"no injury\",\"HEMATOMA\",\"no injury\",\"no injury\",\"no injury\",\"no injury\",\"no injury\",\"no injury\",\"no injury\",\"cut\",\"HEMATOMA\",\"no injury\",\"no injury\",\"excoriation\",\"cut\",\"excoriation\",\"no injury\",\"no injury\",\"cut\",\"no injury\",\"no injury\",\"excoriation\",\"no injury\",\"no injury\",\"Fracture\",\"no injury\",\"no injury\",\"no injury\",\"no injury\",\"excoriation\",\"no injury\",\"excoriation\",\"no injury\",\"no injury\",\"no injury\",\"no injury\",\"no injury\",\"excoriation\",\"no injury\",\"cut\",\"no injury\",\"no injury\",\"excoriation\",\"no injury\",\"no injury\",\"no injury\",\"no injury\",\"no injury\",\"no injury\",\"excoriation\",\"no injury\",\"no injury\",\"no injury\",\"no injury\",\"no injury\",\"HEMATOMA\",\"excoriation\",\"no injury\",\"Bruising\",\"no injury\",\"no injury\",\"no injury\",\"HEMATOMA\",\"excoriation\",\"Head trauma \",\"no injury\",\"no injury\",\"Bruising\",\"excoriation\",\"no injury\",\"no injury\",\"excoriation\",\"no injury\",\"excoriation\",\"no injury\",\"no injury\",\"no injury\",\"no injury\",\"no injury\",\"no injury\",\"no injury\",\"cut\",\"no injury\",\"no injury\",\"no injury\",\"excoriation\",\"no injury\",\"HEMATOMA\",\"excoriation\",\"no injury\",\"no injury\",\"no injury\",\"no injury\",\"HEMATOMA\",\"no injury\",\"no injury\",\"no injury\",\"excoriation\",\"no injury\",\"no injury\",\"no injury\",\"no injury\",\"no injury\",\"no injury\",\"no injury\",\"Bruising\",\"no injury\",\"excoriation\",\"no injury\",\"no injury\",\"cut\",\"no injury\",\"no injury\",\"excoriation\",\"no injury\",\"no injury\",\"no injury\",\"no injury\",\"no injury\",\"no injury\",\"no injury\",\"no injury\",\"no injury\",\"no injury\",\"no injury\",\"no injury\",\"no injury\",\"no injury\",\"Head trauma \",\"no injury\",\"no injury\",\"no injury\",\"no injury\",\"no injury\",\"HEMATOMA\",\"no injury\",\"no injury\",\"no injury\",\"no injury\",\"excoriation\",\"no injury\",\"no injury\",\"no injury\",\"no injury\",\"excoriation\",\"no injury\",\"no injury\",\"cut\",\"cut\",\"no injury\",\"no injury\",\"no injury\",\"no injury\",\"no injury\",\"no injury\",\"no injury\",\"no injury\",\"no injury\",\"no injury\",\"no injury\",\"no injury\",\"no injury\",\"no injury\",\"no injury\",\"no injury\",\"excoriation\",\"no injury\",\"no injury\",\"no injury\",\"no injury\",\"no injury\",\"no injury\",\"no injury\",\"no injury\",\"no injury\",\"cut\",\"no injury\",\"Bruising\",\"no injury\",\"Fracture\",\"no injury\",\"no injury\",\"no injury\",\"Fracture\",\"no injury\",\"no injury\",\"no injury\",\"no injury\",\"Bruising\",\"no injury\",\"no injury\",\"excoriation\",\"HEMATOMA\",\"no injury\",\"Fracture\",\"Wound dehiscence\",\"no injury\",\"no injury\",\"no injury\",\"no injury\",\"excoriation\",\"no injury\",\"no injury\",\"no injury\",\"no injury\",\"no injury\",\"excoriation\",\"no injury\",\"no injury\",\"excoriation\",\"no injury\",\"no injury\",\"cut\",\"EDEMA\",\"no injury\",\"no injury\",\"no injury\",\"no injury\",\"no injury\",\"no injury\",\"no injury\",\"no injury\",\"no injury\",\"excoriation\",\"no injury\",\"no injury\",\"no injury\",\"no injury\",\"no injury\",\"no injury\",\"excoriation\",\"excoriation\",\"excoriation\",\"no injury\",\"no injury\",\"no injury\",\"no injury\",\"no injury\",\"no injury\",\"no injury\",\"no injury\",\"no injury\",\"no injury\",\"HEMATOMA\",\"no injury\",\"HEMATOMA\",\"no injury\",\"excoriation\",\"no injury\",\"no injury\",\"no injury\",\"no injury\",\"no injury\",\"no injury\",\"HEMATOMA\",\"excoriation\",\"Bruising\",\"excoriation\",\"no injury\"],\"legendgroup\":\"\",\"name\":\"\",\"showlegend\":true,\"type\":\"pie\"}],                        {\"template\":{\"data\":{\"histogram2dcontour\":[{\"type\":\"histogram2dcontour\",\"colorbar\":{\"outlinewidth\":0,\"ticks\":\"\"},\"colorscale\":[[0.0,\"#0d0887\"],[0.1111111111111111,\"#46039f\"],[0.2222222222222222,\"#7201a8\"],[0.3333333333333333,\"#9c179e\"],[0.4444444444444444,\"#bd3786\"],[0.5555555555555556,\"#d8576b\"],[0.6666666666666666,\"#ed7953\"],[0.7777777777777778,\"#fb9f3a\"],[0.8888888888888888,\"#fdca26\"],[1.0,\"#f0f921\"]]}],\"choropleth\":[{\"type\":\"choropleth\",\"colorbar\":{\"outlinewidth\":0,\"ticks\":\"\"}}],\"histogram2d\":[{\"type\":\"histogram2d\",\"colorbar\":{\"outlinewidth\":0,\"ticks\":\"\"},\"colorscale\":[[0.0,\"#0d0887\"],[0.1111111111111111,\"#46039f\"],[0.2222222222222222,\"#7201a8\"],[0.3333333333333333,\"#9c179e\"],[0.4444444444444444,\"#bd3786\"],[0.5555555555555556,\"#d8576b\"],[0.6666666666666666,\"#ed7953\"],[0.7777777777777778,\"#fb9f3a\"],[0.8888888888888888,\"#fdca26\"],[1.0,\"#f0f921\"]]}],\"heatmap\":[{\"type\":\"heatmap\",\"colorbar\":{\"outlinewidth\":0,\"ticks\":\"\"},\"colorscale\":[[0.0,\"#0d0887\"],[0.1111111111111111,\"#46039f\"],[0.2222222222222222,\"#7201a8\"],[0.3333333333333333,\"#9c179e\"],[0.4444444444444444,\"#bd3786\"],[0.5555555555555556,\"#d8576b\"],[0.6666666666666666,\"#ed7953\"],[0.7777777777777778,\"#fb9f3a\"],[0.8888888888888888,\"#fdca26\"],[1.0,\"#f0f921\"]]}],\"heatmapgl\":[{\"type\":\"heatmapgl\",\"colorbar\":{\"outlinewidth\":0,\"ticks\":\"\"},\"colorscale\":[[0.0,\"#0d0887\"],[0.1111111111111111,\"#46039f\"],[0.2222222222222222,\"#7201a8\"],[0.3333333333333333,\"#9c179e\"],[0.4444444444444444,\"#bd3786\"],[0.5555555555555556,\"#d8576b\"],[0.6666666666666666,\"#ed7953\"],[0.7777777777777778,\"#fb9f3a\"],[0.8888888888888888,\"#fdca26\"],[1.0,\"#f0f921\"]]}],\"contourcarpet\":[{\"type\":\"contourcarpet\",\"colorbar\":{\"outlinewidth\":0,\"ticks\":\"\"}}],\"contour\":[{\"type\":\"contour\",\"colorbar\":{\"outlinewidth\":0,\"ticks\":\"\"},\"colorscale\":[[0.0,\"#0d0887\"],[0.1111111111111111,\"#46039f\"],[0.2222222222222222,\"#7201a8\"],[0.3333333333333333,\"#9c179e\"],[0.4444444444444444,\"#bd3786\"],[0.5555555555555556,\"#d8576b\"],[0.6666666666666666,\"#ed7953\"],[0.7777777777777778,\"#fb9f3a\"],[0.8888888888888888,\"#fdca26\"],[1.0,\"#f0f921\"]]}],\"surface\":[{\"type\":\"surface\",\"colorbar\":{\"outlinewidth\":0,\"ticks\":\"\"},\"colorscale\":[[0.0,\"#0d0887\"],[0.1111111111111111,\"#46039f\"],[0.2222222222222222,\"#7201a8\"],[0.3333333333333333,\"#9c179e\"],[0.4444444444444444,\"#bd3786\"],[0.5555555555555556,\"#d8576b\"],[0.6666666666666666,\"#ed7953\"],[0.7777777777777778,\"#fb9f3a\"],[0.8888888888888888,\"#fdca26\"],[1.0,\"#f0f921\"]]}],\"mesh3d\":[{\"type\":\"mesh3d\",\"colorbar\":{\"outlinewidth\":0,\"ticks\":\"\"}}],\"scatter\":[{\"fillpattern\":{\"fillmode\":\"overlay\",\"size\":10,\"solidity\":0.2},\"type\":\"scatter\"}],\"parcoords\":[{\"type\":\"parcoords\",\"line\":{\"colorbar\":{\"outlinewidth\":0,\"ticks\":\"\"}}}],\"scatterpolargl\":[{\"type\":\"scatterpolargl\",\"marker\":{\"colorbar\":{\"outlinewidth\":0,\"ticks\":\"\"}}}],\"bar\":[{\"error_x\":{\"color\":\"#2a3f5f\"},\"error_y\":{\"color\":\"#2a3f5f\"},\"marker\":{\"line\":{\"color\":\"#E5ECF6\",\"width\":0.5},\"pattern\":{\"fillmode\":\"overlay\",\"size\":10,\"solidity\":0.2}},\"type\":\"bar\"}],\"scattergeo\":[{\"type\":\"scattergeo\",\"marker\":{\"colorbar\":{\"outlinewidth\":0,\"ticks\":\"\"}}}],\"scatterpolar\":[{\"type\":\"scatterpolar\",\"marker\":{\"colorbar\":{\"outlinewidth\":0,\"ticks\":\"\"}}}],\"histogram\":[{\"marker\":{\"pattern\":{\"fillmode\":\"overlay\",\"size\":10,\"solidity\":0.2}},\"type\":\"histogram\"}],\"scattergl\":[{\"type\":\"scattergl\",\"marker\":{\"colorbar\":{\"outlinewidth\":0,\"ticks\":\"\"}}}],\"scatter3d\":[{\"type\":\"scatter3d\",\"line\":{\"colorbar\":{\"outlinewidth\":0,\"ticks\":\"\"}},\"marker\":{\"colorbar\":{\"outlinewidth\":0,\"ticks\":\"\"}}}],\"scattermapbox\":[{\"type\":\"scattermapbox\",\"marker\":{\"colorbar\":{\"outlinewidth\":0,\"ticks\":\"\"}}}],\"scatterternary\":[{\"type\":\"scatterternary\",\"marker\":{\"colorbar\":{\"outlinewidth\":0,\"ticks\":\"\"}}}],\"scattercarpet\":[{\"type\":\"scattercarpet\",\"marker\":{\"colorbar\":{\"outlinewidth\":0,\"ticks\":\"\"}}}],\"carpet\":[{\"aaxis\":{\"endlinecolor\":\"#2a3f5f\",\"gridcolor\":\"white\",\"linecolor\":\"white\",\"minorgridcolor\":\"white\",\"startlinecolor\":\"#2a3f5f\"},\"baxis\":{\"endlinecolor\":\"#2a3f5f\",\"gridcolor\":\"white\",\"linecolor\":\"white\",\"minorgridcolor\":\"white\",\"startlinecolor\":\"#2a3f5f\"},\"type\":\"carpet\"}],\"table\":[{\"cells\":{\"fill\":{\"color\":\"#EBF0F8\"},\"line\":{\"color\":\"white\"}},\"header\":{\"fill\":{\"color\":\"#C8D4E3\"},\"line\":{\"color\":\"white\"}},\"type\":\"table\"}],\"barpolar\":[{\"marker\":{\"line\":{\"color\":\"#E5ECF6\",\"width\":0.5},\"pattern\":{\"fillmode\":\"overlay\",\"size\":10,\"solidity\":0.2}},\"type\":\"barpolar\"}],\"pie\":[{\"automargin\":true,\"type\":\"pie\"}]},\"layout\":{\"autotypenumbers\":\"strict\",\"colorway\":[\"#636efa\",\"#EF553B\",\"#00cc96\",\"#ab63fa\",\"#FFA15A\",\"#19d3f3\",\"#FF6692\",\"#B6E880\",\"#FF97FF\",\"#FECB52\"],\"font\":{\"color\":\"#2a3f5f\"},\"hovermode\":\"closest\",\"hoverlabel\":{\"align\":\"left\"},\"paper_bgcolor\":\"white\",\"plot_bgcolor\":\"#E5ECF6\",\"polar\":{\"bgcolor\":\"#E5ECF6\",\"angularaxis\":{\"gridcolor\":\"white\",\"linecolor\":\"white\",\"ticks\":\"\"},\"radialaxis\":{\"gridcolor\":\"white\",\"linecolor\":\"white\",\"ticks\":\"\"}},\"ternary\":{\"bgcolor\":\"#E5ECF6\",\"aaxis\":{\"gridcolor\":\"white\",\"linecolor\":\"white\",\"ticks\":\"\"},\"baxis\":{\"gridcolor\":\"white\",\"linecolor\":\"white\",\"ticks\":\"\"},\"caxis\":{\"gridcolor\":\"white\",\"linecolor\":\"white\",\"ticks\":\"\"}},\"coloraxis\":{\"colorbar\":{\"outlinewidth\":0,\"ticks\":\"\"}},\"colorscale\":{\"sequential\":[[0.0,\"#0d0887\"],[0.1111111111111111,\"#46039f\"],[0.2222222222222222,\"#7201a8\"],[0.3333333333333333,\"#9c179e\"],[0.4444444444444444,\"#bd3786\"],[0.5555555555555556,\"#d8576b\"],[0.6666666666666666,\"#ed7953\"],[0.7777777777777778,\"#fb9f3a\"],[0.8888888888888888,\"#fdca26\"],[1.0,\"#f0f921\"]],\"sequentialminus\":[[0.0,\"#0d0887\"],[0.1111111111111111,\"#46039f\"],[0.2222222222222222,\"#7201a8\"],[0.3333333333333333,\"#9c179e\"],[0.4444444444444444,\"#bd3786\"],[0.5555555555555556,\"#d8576b\"],[0.6666666666666666,\"#ed7953\"],[0.7777777777777778,\"#fb9f3a\"],[0.8888888888888888,\"#fdca26\"],[1.0,\"#f0f921\"]],\"diverging\":[[0,\"#8e0152\"],[0.1,\"#c51b7d\"],[0.2,\"#de77ae\"],[0.3,\"#f1b6da\"],[0.4,\"#fde0ef\"],[0.5,\"#f7f7f7\"],[0.6,\"#e6f5d0\"],[0.7,\"#b8e186\"],[0.8,\"#7fbc41\"],[0.9,\"#4d9221\"],[1,\"#276419\"]]},\"xaxis\":{\"gridcolor\":\"white\",\"linecolor\":\"white\",\"ticks\":\"\",\"title\":{\"standoff\":15},\"zerolinecolor\":\"white\",\"automargin\":true,\"zerolinewidth\":2},\"yaxis\":{\"gridcolor\":\"white\",\"linecolor\":\"white\",\"ticks\":\"\",\"title\":{\"standoff\":15},\"zerolinecolor\":\"white\",\"automargin\":true,\"zerolinewidth\":2},\"scene\":{\"xaxis\":{\"backgroundcolor\":\"#E5ECF6\",\"gridcolor\":\"white\",\"linecolor\":\"white\",\"showbackground\":true,\"ticks\":\"\",\"zerolinecolor\":\"white\",\"gridwidth\":2},\"yaxis\":{\"backgroundcolor\":\"#E5ECF6\",\"gridcolor\":\"white\",\"linecolor\":\"white\",\"showbackground\":true,\"ticks\":\"\",\"zerolinecolor\":\"white\",\"gridwidth\":2},\"zaxis\":{\"backgroundcolor\":\"#E5ECF6\",\"gridcolor\":\"white\",\"linecolor\":\"white\",\"showbackground\":true,\"ticks\":\"\",\"zerolinecolor\":\"white\",\"gridwidth\":2}},\"shapedefaults\":{\"line\":{\"color\":\"#2a3f5f\"}},\"annotationdefaults\":{\"arrowcolor\":\"#2a3f5f\",\"arrowhead\":0,\"arrowwidth\":1},\"geo\":{\"bgcolor\":\"white\",\"landcolor\":\"#E5ECF6\",\"subunitcolor\":\"white\",\"showland\":true,\"showlakes\":true,\"lakecolor\":\"white\"},\"title\":{\"x\":0.05},\"mapbox\":{\"style\":\"light\"}}},\"legend\":{\"tracegroupgap\":0},\"title\":{\"text\":\"Types of Injuries\"},\"width\":800,\"height\":600},                        {\"responsive\": true}                    ).then(function(){\n",
       "                            \n",
       "var gd = document.getElementById('64fb8d8c-ffef-415e-9e05-1adecf1d7154');\n",
       "var x = new MutationObserver(function (mutations, observer) {{\n",
       "        var display = window.getComputedStyle(gd).display;\n",
       "        if (!display || display === 'none') {{\n",
       "            console.log([gd, 'removed!']);\n",
       "            Plotly.purge(gd);\n",
       "            observer.disconnect();\n",
       "        }}\n",
       "}});\n",
       "\n",
       "// Listen for the removal of the full notebook cells\n",
       "var notebookContainer = gd.closest('#notebook-container');\n",
       "if (notebookContainer) {{\n",
       "    x.observe(notebookContainer, {childList: true});\n",
       "}}\n",
       "\n",
       "// Listen for the clearing of the current output cell\n",
       "var outputEl = gd.closest('.output');\n",
       "if (outputEl) {{\n",
       "    x.observe(outputEl, {childList: true});\n",
       "}}\n",
       "\n",
       "                        })                };                });            </script>        </div>"
      ]
     },
     "metadata": {},
     "output_type": "display_data"
    }
   ],
   "source": [
    "import plotly.express as px\n",
    "\n",
    "fig_injuries = px.pie(df, names='Type of injury incurred, if any', title='Types of Injuries')\n",
    "\n",
    "fig_injuries.update_layout(width=800, height=600)\n",
    "\n",
    "# Show the plot\n",
    "fig_injuries.show()\n"
   ]
  },
  {
   "cell_type": "code",
   "execution_count": 15,
   "id": "42b5cd89",
   "metadata": {},
   "outputs": [
    {
     "data": {
      "application/vnd.plotly.v1+json": {
       "config": {
        "plotlyServerURL": "https://plot.ly"
       },
       "data": [
        {
         "domain": {
          "x": [
           0,
           1
          ],
          "y": [
           0,
           1
          ]
         },
         "hovertemplate": "Severity of incident=%{label}<extra></extra>",
         "labels": [
          "seious adverse event",
          "adverse event",
          "adverse event",
          "adverse event",
          "adverse event",
          "adverse event",
          "adverse event",
          "adverse event",
          "adverse event",
          "adverse event",
          "adverse event",
          "adverse event",
          "adverse event",
          "adverse event",
          "adverse event",
          "adverse event",
          "adverse event",
          "adverse event",
          "adverse event",
          "adverse event",
          "adverse event",
          "adverse event",
          "adverse event",
          "adverse event",
          "adverse event",
          "adverse event",
          "adverse event",
          "adverse event",
          "adverse event",
          "adverse event",
          "adverse event",
          "adverse event",
          "adverse event",
          "adverse event",
          "adverse event",
          "adverse event",
          "adverse event",
          "adverse event",
          "adverse event",
          "adverse event",
          "adverse event",
          "adverse event",
          "adverse event",
          "adverse event",
          "adverse event",
          "adverse event",
          "adverse event",
          "adverse event",
          "adverse event",
          "adverse event",
          "adverse event",
          "adverse event",
          "adverse event",
          "adverse event",
          "adverse event",
          "adverse event",
          "adverse event",
          "adverse event",
          "adverse event",
          "adverse event",
          "adverse event",
          "adverse event",
          "adverse event",
          "adverse event",
          "adverse event",
          "adverse event",
          "adverse event",
          "adverse event",
          "adverse event",
          "adverse event",
          "adverse event",
          "adverse event",
          "adverse event",
          "adverse event",
          "adverse event",
          "adverse event",
          "adverse event",
          "serious adverse event",
          "adverse event",
          "adverse event",
          "adverse event",
          "adverse event",
          "adverse event",
          "adverse event",
          "serious adverse event",
          "adverse event",
          "adverse event",
          "adverse event",
          "adverse event",
          "adverse event",
          "adverse event",
          "adverse event",
          "adverse event",
          "adverse event",
          "adverse event",
          "adverse event",
          "adverse event",
          "adverse event",
          "adverse event",
          "adverse event",
          "adverse event",
          "adverse event",
          "adverse event",
          "adverse event",
          "adverse event",
          "adverse event",
          "adverse event",
          "adverse event",
          "adverse event",
          "adverse event",
          "adverse event",
          "adverse event",
          "adverse event",
          "adverse event",
          "adverse event",
          "adverse event",
          "adverse event",
          "adverse event",
          "adverse event",
          "adverse event",
          "adverse event",
          "adverse event",
          "adverse event",
          "adverse event",
          "adverse event",
          "adverse event",
          "adverse event",
          "adverse event",
          "adverse event",
          "adverse event",
          "adverse event",
          "adverse event",
          "adverse event",
          "adverse event",
          "adverse event",
          "adverse event",
          "adverse event",
          "adverse event",
          "adverse event",
          "adverse event",
          "adverse event",
          "adverse event",
          "adverse event",
          "adverse event",
          "adverse event",
          "adverse event",
          "adverse event",
          "adverse event",
          "adverse event",
          "adverse event",
          "adverse event",
          "adverse event",
          "adverse event",
          "adverse event",
          "adverse event",
          "adverse event",
          "adverse event",
          "adverse event",
          "adverse event",
          "adverse event",
          "adverse event",
          "adverse event",
          "adverse event",
          "adverse event",
          "adverse event",
          "adverse event",
          "adverse event",
          "adverse event",
          "adverse event",
          "adverse event",
          "adverse event",
          "adverse event",
          "adverse event",
          "adverse event",
          "adverse event",
          "adverse event",
          "adverse event",
          "adverse event",
          "adverse event",
          "adverse event",
          "adverse event",
          "adverse event",
          "adverse event",
          "adverse event",
          "adverse event",
          "adverse event",
          "adverse event",
          "serious adverse event",
          "adverse event",
          "adverse event",
          "adverse event",
          "adverse event",
          "adverse event",
          "adverse event",
          "adverse event",
          "adverse event",
          "adverse event",
          "adverse event",
          "adverse event",
          "adverse event",
          "adverse event",
          "adverse event",
          "adverse event",
          "adverse event",
          "adverse event",
          "adverse event",
          "adverse event",
          "adverse event",
          "adverse event",
          "adverse event",
          "adverse event",
          "adverse event",
          "adverse event",
          "adverse event",
          "adverse event",
          "adverse event",
          "adverse event",
          "adverse event",
          "adverse event",
          "adverse event",
          "adverse event",
          "adverse event",
          "adverse event",
          "adverse event",
          "adverse event",
          "adverse event",
          "adverse event",
          "adverse event",
          "adverse event",
          "adverse event",
          "adverse event",
          "adverse event",
          "adverse event",
          "adverse event",
          "adverse event",
          "adverse event",
          "adverse event",
          "adverse event",
          "adverse event",
          "adverse event",
          "adverse event",
          "adverse event",
          "adverse event",
          "adverse event",
          "adverse event",
          "adverse event",
          "adverse event",
          "adverse event",
          "adverse event",
          "adverse event",
          "adverse event",
          "adverse event",
          "adverse event",
          "adverse event",
          "adverse event",
          "adverse event",
          "adverse event",
          "adverse event",
          "adverse event",
          "adverse event",
          "adverse event",
          "adverse event",
          "adverse event",
          "adverse event",
          "adverse event",
          "adverse event",
          "adverse event",
          "adverse event",
          "adverse event",
          "adverse event",
          "adverse event",
          "adverse event",
          "adverse event",
          "adverse event",
          "adverse event",
          "adverse event",
          "adverse event",
          "adverse event",
          "adverse event",
          "adverse event",
          "adverse event",
          "adverse event",
          "adverse event",
          "adverse event",
          "adverse event",
          "adverse event",
          "adverse event",
          "adverse event",
          "adverse event",
          "adverse event",
          "adverse event",
          "adverse event",
          "adverse event",
          "adverse event",
          "adverse event",
          "adverse event",
          "adverse event",
          "adverse event",
          "adverse event",
          "adverse event",
          "adverse event",
          "adverse event",
          "adverse event",
          "adverse event",
          "adverse event",
          "adverse event",
          "adverse event",
          "adverse event",
          "adverse event",
          "adverse event",
          "adverse event",
          "adverse event",
          "adverse event",
          "adverse event",
          "adverse event",
          "adverse event",
          "adverse event",
          "adverse event",
          "adverse event",
          "adverse event",
          "adverse event",
          "adverse event",
          "adverse event",
          "serious adverse event",
          "adverse event",
          "adverse event",
          "adverse event",
          "adverse event",
          "adverse event",
          "adverse event",
          "adverse event",
          "adverse event",
          "adverse event",
          "adverse event",
          "adverse event",
          "adverse event",
          "adverse event",
          "adverse event",
          "adverse event",
          "adverse event",
          "adverse event",
          "adverse event",
          "adverse event",
          "adverse event",
          "adverse event",
          "adverse event",
          "adverse event",
          "adverse event",
          "adverse event",
          "adverse event",
          "adverse event",
          "adverse event",
          "adverse event",
          "adverse event",
          "adverse event",
          "adverse event",
          "adverse event",
          "adverse event",
          "adverse event",
          "adverse event",
          "adverse event",
          "adverse event",
          "adverse event",
          "serious adverse event",
          "adverse event",
          "adverse event",
          "adverse event",
          "adverse event",
          "adverse event",
          "adverse event",
          "adverse event",
          "adverse event",
          "adverse event",
          "adverse event",
          "adverse event",
          "adverse event",
          "adverse event",
          "adverse event",
          "adverse event",
          "adverse event",
          "adverse event",
          "adverse event",
          "adverse event",
          "adverse event",
          "adverse event",
          "adverse event",
          "adverse event",
          "adverse event",
          "adverse event",
          "adverse event",
          "adverse event",
          "adverse event",
          "adverse event",
          "adverse event",
          "adverse event",
          "adverse event",
          "adverse event",
          "adverse event",
          "adverse event",
          "adverse event",
          "adverse event",
          "adverse event",
          "adverse event",
          "adverse event",
          "adverse event",
          "adverse event",
          "adverse event",
          "adverse event",
          "adverse event",
          "adverse event",
          "adverse event",
          "adverse event",
          "adverse event",
          "adverse event",
          "adverse event",
          "adverse event",
          "adverse event",
          "adverse event",
          "adverse event",
          "adverse event",
          "adverse event",
          "adverse event",
          "adverse event",
          "adverse event",
          "adverse event",
          "adverse event",
          "adverse event",
          "serious adverse event",
          "adverse event",
          "adverse event",
          "adverse event",
          "adverse event",
          "adverse event",
          "adverse event",
          "adverse event",
          "adverse event",
          "adverse event",
          "adverse event",
          "adverse event",
          "adverse event",
          "adverse event",
          "adverse event",
          "adverse event",
          "adverse event",
          "adverse event",
          "adverse event",
          "adverse event",
          "adverse event",
          "adverse event",
          "adverse event",
          "adverse event",
          "adverse event",
          "adverse event",
          "adverse event",
          "adverse event",
          "adverse event",
          "adverse event",
          "adverse event",
          "adverse event",
          "adverse event",
          "adverse event",
          "adverse event",
          "adverse event",
          "adverse event",
          "adverse event",
          "adverse event",
          "adverse event",
          "adverse event",
          "adverse event",
          "adverse event",
          "adverse event",
          "adverse event",
          "adverse event",
          "adverse event",
          "adverse event",
          "adverse event",
          "adverse event",
          "adverse event",
          "adverse event",
          "adverse event",
          "adverse event",
          "adverse event",
          "adverse event",
          "adverse event",
          "adverse event",
          "adverse event",
          "adverse event",
          "adverse event",
          "adverse event",
          "adverse event",
          "adverse event",
          "adverse event",
          "adverse event",
          "serious adverse event",
          "adverse event",
          "adverse event",
          "adverse event",
          "adverse event",
          "adverse event",
          "adverse event",
          "adverse event",
          "adverse event",
          "adverse event",
          "adverse event",
          "adverse event",
          "adverse event",
          "adverse event",
          "adverse event",
          "adverse event",
          "adverse event",
          "adverse event",
          "adverse event",
          "adverse event",
          "adverse event",
          "adverse event",
          "adverse event",
          "adverse event",
          "adverse event",
          "adverse event",
          "adverse event",
          "adverse event",
          "adverse event",
          "adverse event",
          "adverse event",
          "adverse event",
          "adverse event",
          "adverse event",
          "adverse event",
          "adverse event",
          "adverse event",
          "adverse event",
          "adverse event",
          "adverse event",
          "adverse event",
          "adverse event",
          "adverse event",
          "adverse event",
          "adverse event",
          "adverse event",
          "adverse event",
          "adverse event",
          "adverse event",
          "adverse event",
          "adverse event",
          "adverse event",
          "adverse event",
          "adverse event",
          "adverse event",
          "adverse event",
          "adverse event",
          "adverse event",
          "adverse event",
          "adverse event",
          "adverse event",
          "adverse event",
          "adverse event",
          "adverse event",
          "adverse event"
         ],
         "legendgroup": "",
         "name": "",
         "showlegend": true,
         "type": "pie"
        }
       ],
       "layout": {
        "height": 600,
        "legend": {
         "tracegroupgap": 0
        },
        "template": {
         "data": {
          "bar": [
           {
            "error_x": {
             "color": "#2a3f5f"
            },
            "error_y": {
             "color": "#2a3f5f"
            },
            "marker": {
             "line": {
              "color": "#E5ECF6",
              "width": 0.5
             },
             "pattern": {
              "fillmode": "overlay",
              "size": 10,
              "solidity": 0.2
             }
            },
            "type": "bar"
           }
          ],
          "barpolar": [
           {
            "marker": {
             "line": {
              "color": "#E5ECF6",
              "width": 0.5
             },
             "pattern": {
              "fillmode": "overlay",
              "size": 10,
              "solidity": 0.2
             }
            },
            "type": "barpolar"
           }
          ],
          "carpet": [
           {
            "aaxis": {
             "endlinecolor": "#2a3f5f",
             "gridcolor": "white",
             "linecolor": "white",
             "minorgridcolor": "white",
             "startlinecolor": "#2a3f5f"
            },
            "baxis": {
             "endlinecolor": "#2a3f5f",
             "gridcolor": "white",
             "linecolor": "white",
             "minorgridcolor": "white",
             "startlinecolor": "#2a3f5f"
            },
            "type": "carpet"
           }
          ],
          "choropleth": [
           {
            "colorbar": {
             "outlinewidth": 0,
             "ticks": ""
            },
            "type": "choropleth"
           }
          ],
          "contour": [
           {
            "colorbar": {
             "outlinewidth": 0,
             "ticks": ""
            },
            "colorscale": [
             [
              0,
              "#0d0887"
             ],
             [
              0.1111111111111111,
              "#46039f"
             ],
             [
              0.2222222222222222,
              "#7201a8"
             ],
             [
              0.3333333333333333,
              "#9c179e"
             ],
             [
              0.4444444444444444,
              "#bd3786"
             ],
             [
              0.5555555555555556,
              "#d8576b"
             ],
             [
              0.6666666666666666,
              "#ed7953"
             ],
             [
              0.7777777777777778,
              "#fb9f3a"
             ],
             [
              0.8888888888888888,
              "#fdca26"
             ],
             [
              1,
              "#f0f921"
             ]
            ],
            "type": "contour"
           }
          ],
          "contourcarpet": [
           {
            "colorbar": {
             "outlinewidth": 0,
             "ticks": ""
            },
            "type": "contourcarpet"
           }
          ],
          "heatmap": [
           {
            "colorbar": {
             "outlinewidth": 0,
             "ticks": ""
            },
            "colorscale": [
             [
              0,
              "#0d0887"
             ],
             [
              0.1111111111111111,
              "#46039f"
             ],
             [
              0.2222222222222222,
              "#7201a8"
             ],
             [
              0.3333333333333333,
              "#9c179e"
             ],
             [
              0.4444444444444444,
              "#bd3786"
             ],
             [
              0.5555555555555556,
              "#d8576b"
             ],
             [
              0.6666666666666666,
              "#ed7953"
             ],
             [
              0.7777777777777778,
              "#fb9f3a"
             ],
             [
              0.8888888888888888,
              "#fdca26"
             ],
             [
              1,
              "#f0f921"
             ]
            ],
            "type": "heatmap"
           }
          ],
          "heatmapgl": [
           {
            "colorbar": {
             "outlinewidth": 0,
             "ticks": ""
            },
            "colorscale": [
             [
              0,
              "#0d0887"
             ],
             [
              0.1111111111111111,
              "#46039f"
             ],
             [
              0.2222222222222222,
              "#7201a8"
             ],
             [
              0.3333333333333333,
              "#9c179e"
             ],
             [
              0.4444444444444444,
              "#bd3786"
             ],
             [
              0.5555555555555556,
              "#d8576b"
             ],
             [
              0.6666666666666666,
              "#ed7953"
             ],
             [
              0.7777777777777778,
              "#fb9f3a"
             ],
             [
              0.8888888888888888,
              "#fdca26"
             ],
             [
              1,
              "#f0f921"
             ]
            ],
            "type": "heatmapgl"
           }
          ],
          "histogram": [
           {
            "marker": {
             "pattern": {
              "fillmode": "overlay",
              "size": 10,
              "solidity": 0.2
             }
            },
            "type": "histogram"
           }
          ],
          "histogram2d": [
           {
            "colorbar": {
             "outlinewidth": 0,
             "ticks": ""
            },
            "colorscale": [
             [
              0,
              "#0d0887"
             ],
             [
              0.1111111111111111,
              "#46039f"
             ],
             [
              0.2222222222222222,
              "#7201a8"
             ],
             [
              0.3333333333333333,
              "#9c179e"
             ],
             [
              0.4444444444444444,
              "#bd3786"
             ],
             [
              0.5555555555555556,
              "#d8576b"
             ],
             [
              0.6666666666666666,
              "#ed7953"
             ],
             [
              0.7777777777777778,
              "#fb9f3a"
             ],
             [
              0.8888888888888888,
              "#fdca26"
             ],
             [
              1,
              "#f0f921"
             ]
            ],
            "type": "histogram2d"
           }
          ],
          "histogram2dcontour": [
           {
            "colorbar": {
             "outlinewidth": 0,
             "ticks": ""
            },
            "colorscale": [
             [
              0,
              "#0d0887"
             ],
             [
              0.1111111111111111,
              "#46039f"
             ],
             [
              0.2222222222222222,
              "#7201a8"
             ],
             [
              0.3333333333333333,
              "#9c179e"
             ],
             [
              0.4444444444444444,
              "#bd3786"
             ],
             [
              0.5555555555555556,
              "#d8576b"
             ],
             [
              0.6666666666666666,
              "#ed7953"
             ],
             [
              0.7777777777777778,
              "#fb9f3a"
             ],
             [
              0.8888888888888888,
              "#fdca26"
             ],
             [
              1,
              "#f0f921"
             ]
            ],
            "type": "histogram2dcontour"
           }
          ],
          "mesh3d": [
           {
            "colorbar": {
             "outlinewidth": 0,
             "ticks": ""
            },
            "type": "mesh3d"
           }
          ],
          "parcoords": [
           {
            "line": {
             "colorbar": {
              "outlinewidth": 0,
              "ticks": ""
             }
            },
            "type": "parcoords"
           }
          ],
          "pie": [
           {
            "automargin": true,
            "type": "pie"
           }
          ],
          "scatter": [
           {
            "fillpattern": {
             "fillmode": "overlay",
             "size": 10,
             "solidity": 0.2
            },
            "type": "scatter"
           }
          ],
          "scatter3d": [
           {
            "line": {
             "colorbar": {
              "outlinewidth": 0,
              "ticks": ""
             }
            },
            "marker": {
             "colorbar": {
              "outlinewidth": 0,
              "ticks": ""
             }
            },
            "type": "scatter3d"
           }
          ],
          "scattercarpet": [
           {
            "marker": {
             "colorbar": {
              "outlinewidth": 0,
              "ticks": ""
             }
            },
            "type": "scattercarpet"
           }
          ],
          "scattergeo": [
           {
            "marker": {
             "colorbar": {
              "outlinewidth": 0,
              "ticks": ""
             }
            },
            "type": "scattergeo"
           }
          ],
          "scattergl": [
           {
            "marker": {
             "colorbar": {
              "outlinewidth": 0,
              "ticks": ""
             }
            },
            "type": "scattergl"
           }
          ],
          "scattermapbox": [
           {
            "marker": {
             "colorbar": {
              "outlinewidth": 0,
              "ticks": ""
             }
            },
            "type": "scattermapbox"
           }
          ],
          "scatterpolar": [
           {
            "marker": {
             "colorbar": {
              "outlinewidth": 0,
              "ticks": ""
             }
            },
            "type": "scatterpolar"
           }
          ],
          "scatterpolargl": [
           {
            "marker": {
             "colorbar": {
              "outlinewidth": 0,
              "ticks": ""
             }
            },
            "type": "scatterpolargl"
           }
          ],
          "scatterternary": [
           {
            "marker": {
             "colorbar": {
              "outlinewidth": 0,
              "ticks": ""
             }
            },
            "type": "scatterternary"
           }
          ],
          "surface": [
           {
            "colorbar": {
             "outlinewidth": 0,
             "ticks": ""
            },
            "colorscale": [
             [
              0,
              "#0d0887"
             ],
             [
              0.1111111111111111,
              "#46039f"
             ],
             [
              0.2222222222222222,
              "#7201a8"
             ],
             [
              0.3333333333333333,
              "#9c179e"
             ],
             [
              0.4444444444444444,
              "#bd3786"
             ],
             [
              0.5555555555555556,
              "#d8576b"
             ],
             [
              0.6666666666666666,
              "#ed7953"
             ],
             [
              0.7777777777777778,
              "#fb9f3a"
             ],
             [
              0.8888888888888888,
              "#fdca26"
             ],
             [
              1,
              "#f0f921"
             ]
            ],
            "type": "surface"
           }
          ],
          "table": [
           {
            "cells": {
             "fill": {
              "color": "#EBF0F8"
             },
             "line": {
              "color": "white"
             }
            },
            "header": {
             "fill": {
              "color": "#C8D4E3"
             },
             "line": {
              "color": "white"
             }
            },
            "type": "table"
           }
          ]
         },
         "layout": {
          "annotationdefaults": {
           "arrowcolor": "#2a3f5f",
           "arrowhead": 0,
           "arrowwidth": 1
          },
          "autotypenumbers": "strict",
          "coloraxis": {
           "colorbar": {
            "outlinewidth": 0,
            "ticks": ""
           }
          },
          "colorscale": {
           "diverging": [
            [
             0,
             "#8e0152"
            ],
            [
             0.1,
             "#c51b7d"
            ],
            [
             0.2,
             "#de77ae"
            ],
            [
             0.3,
             "#f1b6da"
            ],
            [
             0.4,
             "#fde0ef"
            ],
            [
             0.5,
             "#f7f7f7"
            ],
            [
             0.6,
             "#e6f5d0"
            ],
            [
             0.7,
             "#b8e186"
            ],
            [
             0.8,
             "#7fbc41"
            ],
            [
             0.9,
             "#4d9221"
            ],
            [
             1,
             "#276419"
            ]
           ],
           "sequential": [
            [
             0,
             "#0d0887"
            ],
            [
             0.1111111111111111,
             "#46039f"
            ],
            [
             0.2222222222222222,
             "#7201a8"
            ],
            [
             0.3333333333333333,
             "#9c179e"
            ],
            [
             0.4444444444444444,
             "#bd3786"
            ],
            [
             0.5555555555555556,
             "#d8576b"
            ],
            [
             0.6666666666666666,
             "#ed7953"
            ],
            [
             0.7777777777777778,
             "#fb9f3a"
            ],
            [
             0.8888888888888888,
             "#fdca26"
            ],
            [
             1,
             "#f0f921"
            ]
           ],
           "sequentialminus": [
            [
             0,
             "#0d0887"
            ],
            [
             0.1111111111111111,
             "#46039f"
            ],
            [
             0.2222222222222222,
             "#7201a8"
            ],
            [
             0.3333333333333333,
             "#9c179e"
            ],
            [
             0.4444444444444444,
             "#bd3786"
            ],
            [
             0.5555555555555556,
             "#d8576b"
            ],
            [
             0.6666666666666666,
             "#ed7953"
            ],
            [
             0.7777777777777778,
             "#fb9f3a"
            ],
            [
             0.8888888888888888,
             "#fdca26"
            ],
            [
             1,
             "#f0f921"
            ]
           ]
          },
          "colorway": [
           "#636efa",
           "#EF553B",
           "#00cc96",
           "#ab63fa",
           "#FFA15A",
           "#19d3f3",
           "#FF6692",
           "#B6E880",
           "#FF97FF",
           "#FECB52"
          ],
          "font": {
           "color": "#2a3f5f"
          },
          "geo": {
           "bgcolor": "white",
           "lakecolor": "white",
           "landcolor": "#E5ECF6",
           "showlakes": true,
           "showland": true,
           "subunitcolor": "white"
          },
          "hoverlabel": {
           "align": "left"
          },
          "hovermode": "closest",
          "mapbox": {
           "style": "light"
          },
          "paper_bgcolor": "white",
          "plot_bgcolor": "#E5ECF6",
          "polar": {
           "angularaxis": {
            "gridcolor": "white",
            "linecolor": "white",
            "ticks": ""
           },
           "bgcolor": "#E5ECF6",
           "radialaxis": {
            "gridcolor": "white",
            "linecolor": "white",
            "ticks": ""
           }
          },
          "scene": {
           "xaxis": {
            "backgroundcolor": "#E5ECF6",
            "gridcolor": "white",
            "gridwidth": 2,
            "linecolor": "white",
            "showbackground": true,
            "ticks": "",
            "zerolinecolor": "white"
           },
           "yaxis": {
            "backgroundcolor": "#E5ECF6",
            "gridcolor": "white",
            "gridwidth": 2,
            "linecolor": "white",
            "showbackground": true,
            "ticks": "",
            "zerolinecolor": "white"
           },
           "zaxis": {
            "backgroundcolor": "#E5ECF6",
            "gridcolor": "white",
            "gridwidth": 2,
            "linecolor": "white",
            "showbackground": true,
            "ticks": "",
            "zerolinecolor": "white"
           }
          },
          "shapedefaults": {
           "line": {
            "color": "#2a3f5f"
           }
          },
          "ternary": {
           "aaxis": {
            "gridcolor": "white",
            "linecolor": "white",
            "ticks": ""
           },
           "baxis": {
            "gridcolor": "white",
            "linecolor": "white",
            "ticks": ""
           },
           "bgcolor": "#E5ECF6",
           "caxis": {
            "gridcolor": "white",
            "linecolor": "white",
            "ticks": ""
           }
          },
          "title": {
           "x": 0.05
          },
          "xaxis": {
           "automargin": true,
           "gridcolor": "white",
           "linecolor": "white",
           "ticks": "",
           "title": {
            "standoff": 15
           },
           "zerolinecolor": "white",
           "zerolinewidth": 2
          },
          "yaxis": {
           "automargin": true,
           "gridcolor": "white",
           "linecolor": "white",
           "ticks": "",
           "title": {
            "standoff": 15
           },
           "zerolinecolor": "white",
           "zerolinewidth": 2
          }
         }
        },
        "title": {
         "text": "Types of Injuries"
        },
        "width": 800
       }
      },
      "text/html": [
       "<div>                            <div id=\"1a5bab65-d1bd-4c9b-a388-7e1728fdea73\" class=\"plotly-graph-div\" style=\"height:600px; width:800px;\"></div>            <script type=\"text/javascript\">                require([\"plotly\"], function(Plotly) {                    window.PLOTLYENV=window.PLOTLYENV || {};                                    if (document.getElementById(\"1a5bab65-d1bd-4c9b-a388-7e1728fdea73\")) {                    Plotly.newPlot(                        \"1a5bab65-d1bd-4c9b-a388-7e1728fdea73\",                        [{\"domain\":{\"x\":[0.0,1.0],\"y\":[0.0,1.0]},\"hovertemplate\":\"Severity of incident=%{label}<extra></extra>\",\"labels\":[\"seious adverse event\",\"adverse event\",\"adverse event\",\"adverse event\",\"adverse event\",\"adverse event\",\"adverse event\",\"adverse event\",\"adverse event\",\"adverse event\",\"adverse event\",\"adverse event\",\"adverse event\",\"adverse event\",\"adverse event\",\"adverse event\",\"adverse event\",\"adverse event\",\"adverse event\",\"adverse event\",\"adverse event\",\"adverse event\",\"adverse event\",\"adverse event\",\"adverse event\",\"adverse event\",\"adverse event\",\"adverse event\",\"adverse event\",\"adverse event\",\"adverse event\",\"adverse event\",\"adverse event\",\"adverse event\",\"adverse event\",\"adverse event\",\"adverse event\",\"adverse event\",\"adverse event\",\"adverse event\",\"adverse event\",\"adverse event\",\"adverse event\",\"adverse event\",\"adverse event\",\"adverse event\",\"adverse event\",\"adverse event\",\"adverse event\",\"adverse event\",\"adverse event\",\"adverse event\",\"adverse event\",\"adverse event\",\"adverse event\",\"adverse event\",\"adverse event\",\"adverse event\",\"adverse event\",\"adverse event\",\"adverse event\",\"adverse event\",\"adverse event\",\"adverse event\",\"adverse event\",\"adverse event\",\"adverse event\",\"adverse event\",\"adverse event\",\"adverse event\",\"adverse event\",\"adverse event\",\"adverse event\",\"adverse event\",\"adverse event\",\"adverse event\",\"adverse event\",\"serious adverse event\",\"adverse event\",\"adverse event\",\"adverse event\",\"adverse event\",\"adverse event\",\"adverse event\",\"serious adverse event\",\"adverse event\",\"adverse event\",\"adverse event\",\"adverse event\",\"adverse event\",\"adverse event\",\"adverse event\",\"adverse event\",\"adverse event\",\"adverse event\",\"adverse event\",\"adverse event\",\"adverse event\",\"adverse event\",\"adverse event\",\"adverse event\",\"adverse event\",\"adverse event\",\"adverse event\",\"adverse event\",\"adverse event\",\"adverse event\",\"adverse event\",\"adverse event\",\"adverse event\",\"adverse event\",\"adverse event\",\"adverse event\",\"adverse event\",\"adverse event\",\"adverse event\",\"adverse event\",\"adverse event\",\"adverse event\",\"adverse event\",\"adverse event\",\"adverse event\",\"adverse event\",\"adverse event\",\"adverse event\",\"adverse event\",\"adverse event\",\"adverse event\",\"adverse event\",\"adverse event\",\"adverse event\",\"adverse event\",\"adverse event\",\"adverse event\",\"adverse event\",\"adverse event\",\"adverse event\",\"adverse event\",\"adverse event\",\"adverse event\",\"adverse event\",\"adverse event\",\"adverse event\",\"adverse event\",\"adverse event\",\"adverse event\",\"adverse event\",\"adverse event\",\"adverse event\",\"adverse event\",\"adverse event\",\"adverse event\",\"adverse event\",\"adverse event\",\"adverse event\",\"adverse event\",\"adverse event\",\"adverse event\",\"adverse event\",\"adverse event\",\"adverse event\",\"adverse event\",\"adverse event\",\"adverse event\",\"adverse event\",\"adverse event\",\"adverse event\",\"adverse event\",\"adverse event\",\"adverse event\",\"adverse event\",\"adverse event\",\"adverse event\",\"adverse event\",\"adverse event\",\"adverse event\",\"adverse event\",\"adverse event\",\"adverse event\",\"adverse event\",\"adverse event\",\"adverse event\",\"adverse event\",\"adverse event\",\"adverse event\",\"adverse event\",\"adverse event\",\"serious adverse event\",\"adverse event\",\"adverse event\",\"adverse event\",\"adverse event\",\"adverse event\",\"adverse event\",\"adverse event\",\"adverse event\",\"adverse event\",\"adverse event\",\"adverse event\",\"adverse event\",\"adverse event\",\"adverse event\",\"adverse event\",\"adverse event\",\"adverse event\",\"adverse event\",\"adverse event\",\"adverse event\",\"adverse event\",\"adverse event\",\"adverse event\",\"adverse event\",\"adverse event\",\"adverse event\",\"adverse event\",\"adverse event\",\"adverse event\",\"adverse event\",\"adverse event\",\"adverse event\",\"adverse event\",\"adverse event\",\"adverse event\",\"adverse event\",\"adverse event\",\"adverse event\",\"adverse event\",\"adverse event\",\"adverse event\",\"adverse event\",\"adverse event\",\"adverse event\",\"adverse event\",\"adverse event\",\"adverse event\",\"adverse event\",\"adverse event\",\"adverse event\",\"adverse event\",\"adverse event\",\"adverse event\",\"adverse event\",\"adverse event\",\"adverse event\",\"adverse event\",\"adverse event\",\"adverse event\",\"adverse event\",\"adverse event\",\"adverse event\",\"adverse event\",\"adverse event\",\"adverse event\",\"adverse event\",\"adverse event\",\"adverse event\",\"adverse event\",\"adverse event\",\"adverse event\",\"adverse event\",\"adverse event\",\"adverse event\",\"adverse event\",\"adverse event\",\"adverse event\",\"adverse event\",\"adverse event\",\"adverse event\",\"adverse event\",\"adverse event\",\"adverse event\",\"adverse event\",\"adverse event\",\"adverse event\",\"adverse event\",\"adverse event\",\"adverse event\",\"adverse event\",\"adverse event\",\"adverse event\",\"adverse event\",\"adverse event\",\"adverse event\",\"adverse event\",\"adverse event\",\"adverse event\",\"adverse event\",\"adverse event\",\"adverse event\",\"adverse event\",\"adverse event\",\"adverse event\",\"adverse event\",\"adverse event\",\"adverse event\",\"adverse event\",\"adverse event\",\"adverse event\",\"adverse event\",\"adverse event\",\"adverse event\",\"adverse event\",\"adverse event\",\"adverse event\",\"adverse event\",\"adverse event\",\"adverse event\",\"adverse event\",\"adverse event\",\"adverse event\",\"adverse event\",\"adverse event\",\"adverse event\",\"adverse event\",\"adverse event\",\"adverse event\",\"adverse event\",\"adverse event\",\"adverse event\",\"adverse event\",\"adverse event\",\"adverse event\",\"adverse event\",\"serious adverse event\",\"adverse event\",\"adverse event\",\"adverse event\",\"adverse event\",\"adverse event\",\"adverse event\",\"adverse event\",\"adverse event\",\"adverse event\",\"adverse event\",\"adverse event\",\"adverse event\",\"adverse event\",\"adverse event\",\"adverse event\",\"adverse event\",\"adverse event\",\"adverse event\",\"adverse event\",\"adverse event\",\"adverse event\",\"adverse event\",\"adverse event\",\"adverse event\",\"adverse event\",\"adverse event\",\"adverse event\",\"adverse event\",\"adverse event\",\"adverse event\",\"adverse event\",\"adverse event\",\"adverse event\",\"adverse event\",\"adverse event\",\"adverse event\",\"adverse event\",\"adverse event\",\"adverse event\",\"serious adverse event\",\"adverse event\",\"adverse event\",\"adverse event\",\"adverse event\",\"adverse event\",\"adverse event\",\"adverse event\",\"adverse event\",\"adverse event\",\"adverse event\",\"adverse event\",\"adverse event\",\"adverse event\",\"adverse event\",\"adverse event\",\"adverse event\",\"adverse event\",\"adverse event\",\"adverse event\",\"adverse event\",\"adverse event\",\"adverse event\",\"adverse event\",\"adverse event\",\"adverse event\",\"adverse event\",\"adverse event\",\"adverse event\",\"adverse event\",\"adverse event\",\"adverse event\",\"adverse event\",\"adverse event\",\"adverse event\",\"adverse event\",\"adverse event\",\"adverse event\",\"adverse event\",\"adverse event\",\"adverse event\",\"adverse event\",\"adverse event\",\"adverse event\",\"adverse event\",\"adverse event\",\"adverse event\",\"adverse event\",\"adverse event\",\"adverse event\",\"adverse event\",\"adverse event\",\"adverse event\",\"adverse event\",\"adverse event\",\"adverse event\",\"adverse event\",\"adverse event\",\"adverse event\",\"adverse event\",\"adverse event\",\"adverse event\",\"adverse event\",\"adverse event\",\"serious adverse event\",\"adverse event\",\"adverse event\",\"adverse event\",\"adverse event\",\"adverse event\",\"adverse event\",\"adverse event\",\"adverse event\",\"adverse event\",\"adverse event\",\"adverse event\",\"adverse event\",\"adverse event\",\"adverse event\",\"adverse event\",\"adverse event\",\"adverse event\",\"adverse event\",\"adverse event\",\"adverse event\",\"adverse event\",\"adverse event\",\"adverse event\",\"adverse event\",\"adverse event\",\"adverse event\",\"adverse event\",\"adverse event\",\"adverse event\",\"adverse event\",\"adverse event\",\"adverse event\",\"adverse event\",\"adverse event\",\"adverse event\",\"adverse event\",\"adverse event\",\"adverse event\",\"adverse event\",\"adverse event\",\"adverse event\",\"adverse event\",\"adverse event\",\"adverse event\",\"adverse event\",\"adverse event\",\"adverse event\",\"adverse event\",\"adverse event\",\"adverse event\",\"adverse event\",\"adverse event\",\"adverse event\",\"adverse event\",\"adverse event\",\"adverse event\",\"adverse event\",\"adverse event\",\"adverse event\",\"adverse event\",\"adverse event\",\"adverse event\",\"adverse event\",\"adverse event\",\"adverse event\",\"serious adverse event\",\"adverse event\",\"adverse event\",\"adverse event\",\"adverse event\",\"adverse event\",\"adverse event\",\"adverse event\",\"adverse event\",\"adverse event\",\"adverse event\",\"adverse event\",\"adverse event\",\"adverse event\",\"adverse event\",\"adverse event\",\"adverse event\",\"adverse event\",\"adverse event\",\"adverse event\",\"adverse event\",\"adverse event\",\"adverse event\",\"adverse event\",\"adverse event\",\"adverse event\",\"adverse event\",\"adverse event\",\"adverse event\",\"adverse event\",\"adverse event\",\"adverse event\",\"adverse event\",\"adverse event\",\"adverse event\",\"adverse event\",\"adverse event\",\"adverse event\",\"adverse event\",\"adverse event\",\"adverse event\",\"adverse event\",\"adverse event\",\"adverse event\",\"adverse event\",\"adverse event\",\"adverse event\",\"adverse event\",\"adverse event\",\"adverse event\",\"adverse event\",\"adverse event\",\"adverse event\",\"adverse event\",\"adverse event\",\"adverse event\",\"adverse event\",\"adverse event\",\"adverse event\",\"adverse event\",\"adverse event\",\"adverse event\",\"adverse event\",\"adverse event\",\"adverse event\"],\"legendgroup\":\"\",\"name\":\"\",\"showlegend\":true,\"type\":\"pie\"}],                        {\"template\":{\"data\":{\"histogram2dcontour\":[{\"type\":\"histogram2dcontour\",\"colorbar\":{\"outlinewidth\":0,\"ticks\":\"\"},\"colorscale\":[[0.0,\"#0d0887\"],[0.1111111111111111,\"#46039f\"],[0.2222222222222222,\"#7201a8\"],[0.3333333333333333,\"#9c179e\"],[0.4444444444444444,\"#bd3786\"],[0.5555555555555556,\"#d8576b\"],[0.6666666666666666,\"#ed7953\"],[0.7777777777777778,\"#fb9f3a\"],[0.8888888888888888,\"#fdca26\"],[1.0,\"#f0f921\"]]}],\"choropleth\":[{\"type\":\"choropleth\",\"colorbar\":{\"outlinewidth\":0,\"ticks\":\"\"}}],\"histogram2d\":[{\"type\":\"histogram2d\",\"colorbar\":{\"outlinewidth\":0,\"ticks\":\"\"},\"colorscale\":[[0.0,\"#0d0887\"],[0.1111111111111111,\"#46039f\"],[0.2222222222222222,\"#7201a8\"],[0.3333333333333333,\"#9c179e\"],[0.4444444444444444,\"#bd3786\"],[0.5555555555555556,\"#d8576b\"],[0.6666666666666666,\"#ed7953\"],[0.7777777777777778,\"#fb9f3a\"],[0.8888888888888888,\"#fdca26\"],[1.0,\"#f0f921\"]]}],\"heatmap\":[{\"type\":\"heatmap\",\"colorbar\":{\"outlinewidth\":0,\"ticks\":\"\"},\"colorscale\":[[0.0,\"#0d0887\"],[0.1111111111111111,\"#46039f\"],[0.2222222222222222,\"#7201a8\"],[0.3333333333333333,\"#9c179e\"],[0.4444444444444444,\"#bd3786\"],[0.5555555555555556,\"#d8576b\"],[0.6666666666666666,\"#ed7953\"],[0.7777777777777778,\"#fb9f3a\"],[0.8888888888888888,\"#fdca26\"],[1.0,\"#f0f921\"]]}],\"heatmapgl\":[{\"type\":\"heatmapgl\",\"colorbar\":{\"outlinewidth\":0,\"ticks\":\"\"},\"colorscale\":[[0.0,\"#0d0887\"],[0.1111111111111111,\"#46039f\"],[0.2222222222222222,\"#7201a8\"],[0.3333333333333333,\"#9c179e\"],[0.4444444444444444,\"#bd3786\"],[0.5555555555555556,\"#d8576b\"],[0.6666666666666666,\"#ed7953\"],[0.7777777777777778,\"#fb9f3a\"],[0.8888888888888888,\"#fdca26\"],[1.0,\"#f0f921\"]]}],\"contourcarpet\":[{\"type\":\"contourcarpet\",\"colorbar\":{\"outlinewidth\":0,\"ticks\":\"\"}}],\"contour\":[{\"type\":\"contour\",\"colorbar\":{\"outlinewidth\":0,\"ticks\":\"\"},\"colorscale\":[[0.0,\"#0d0887\"],[0.1111111111111111,\"#46039f\"],[0.2222222222222222,\"#7201a8\"],[0.3333333333333333,\"#9c179e\"],[0.4444444444444444,\"#bd3786\"],[0.5555555555555556,\"#d8576b\"],[0.6666666666666666,\"#ed7953\"],[0.7777777777777778,\"#fb9f3a\"],[0.8888888888888888,\"#fdca26\"],[1.0,\"#f0f921\"]]}],\"surface\":[{\"type\":\"surface\",\"colorbar\":{\"outlinewidth\":0,\"ticks\":\"\"},\"colorscale\":[[0.0,\"#0d0887\"],[0.1111111111111111,\"#46039f\"],[0.2222222222222222,\"#7201a8\"],[0.3333333333333333,\"#9c179e\"],[0.4444444444444444,\"#bd3786\"],[0.5555555555555556,\"#d8576b\"],[0.6666666666666666,\"#ed7953\"],[0.7777777777777778,\"#fb9f3a\"],[0.8888888888888888,\"#fdca26\"],[1.0,\"#f0f921\"]]}],\"mesh3d\":[{\"type\":\"mesh3d\",\"colorbar\":{\"outlinewidth\":0,\"ticks\":\"\"}}],\"scatter\":[{\"fillpattern\":{\"fillmode\":\"overlay\",\"size\":10,\"solidity\":0.2},\"type\":\"scatter\"}],\"parcoords\":[{\"type\":\"parcoords\",\"line\":{\"colorbar\":{\"outlinewidth\":0,\"ticks\":\"\"}}}],\"scatterpolargl\":[{\"type\":\"scatterpolargl\",\"marker\":{\"colorbar\":{\"outlinewidth\":0,\"ticks\":\"\"}}}],\"bar\":[{\"error_x\":{\"color\":\"#2a3f5f\"},\"error_y\":{\"color\":\"#2a3f5f\"},\"marker\":{\"line\":{\"color\":\"#E5ECF6\",\"width\":0.5},\"pattern\":{\"fillmode\":\"overlay\",\"size\":10,\"solidity\":0.2}},\"type\":\"bar\"}],\"scattergeo\":[{\"type\":\"scattergeo\",\"marker\":{\"colorbar\":{\"outlinewidth\":0,\"ticks\":\"\"}}}],\"scatterpolar\":[{\"type\":\"scatterpolar\",\"marker\":{\"colorbar\":{\"outlinewidth\":0,\"ticks\":\"\"}}}],\"histogram\":[{\"marker\":{\"pattern\":{\"fillmode\":\"overlay\",\"size\":10,\"solidity\":0.2}},\"type\":\"histogram\"}],\"scattergl\":[{\"type\":\"scattergl\",\"marker\":{\"colorbar\":{\"outlinewidth\":0,\"ticks\":\"\"}}}],\"scatter3d\":[{\"type\":\"scatter3d\",\"line\":{\"colorbar\":{\"outlinewidth\":0,\"ticks\":\"\"}},\"marker\":{\"colorbar\":{\"outlinewidth\":0,\"ticks\":\"\"}}}],\"scattermapbox\":[{\"type\":\"scattermapbox\",\"marker\":{\"colorbar\":{\"outlinewidth\":0,\"ticks\":\"\"}}}],\"scatterternary\":[{\"type\":\"scatterternary\",\"marker\":{\"colorbar\":{\"outlinewidth\":0,\"ticks\":\"\"}}}],\"scattercarpet\":[{\"type\":\"scattercarpet\",\"marker\":{\"colorbar\":{\"outlinewidth\":0,\"ticks\":\"\"}}}],\"carpet\":[{\"aaxis\":{\"endlinecolor\":\"#2a3f5f\",\"gridcolor\":\"white\",\"linecolor\":\"white\",\"minorgridcolor\":\"white\",\"startlinecolor\":\"#2a3f5f\"},\"baxis\":{\"endlinecolor\":\"#2a3f5f\",\"gridcolor\":\"white\",\"linecolor\":\"white\",\"minorgridcolor\":\"white\",\"startlinecolor\":\"#2a3f5f\"},\"type\":\"carpet\"}],\"table\":[{\"cells\":{\"fill\":{\"color\":\"#EBF0F8\"},\"line\":{\"color\":\"white\"}},\"header\":{\"fill\":{\"color\":\"#C8D4E3\"},\"line\":{\"color\":\"white\"}},\"type\":\"table\"}],\"barpolar\":[{\"marker\":{\"line\":{\"color\":\"#E5ECF6\",\"width\":0.5},\"pattern\":{\"fillmode\":\"overlay\",\"size\":10,\"solidity\":0.2}},\"type\":\"barpolar\"}],\"pie\":[{\"automargin\":true,\"type\":\"pie\"}]},\"layout\":{\"autotypenumbers\":\"strict\",\"colorway\":[\"#636efa\",\"#EF553B\",\"#00cc96\",\"#ab63fa\",\"#FFA15A\",\"#19d3f3\",\"#FF6692\",\"#B6E880\",\"#FF97FF\",\"#FECB52\"],\"font\":{\"color\":\"#2a3f5f\"},\"hovermode\":\"closest\",\"hoverlabel\":{\"align\":\"left\"},\"paper_bgcolor\":\"white\",\"plot_bgcolor\":\"#E5ECF6\",\"polar\":{\"bgcolor\":\"#E5ECF6\",\"angularaxis\":{\"gridcolor\":\"white\",\"linecolor\":\"white\",\"ticks\":\"\"},\"radialaxis\":{\"gridcolor\":\"white\",\"linecolor\":\"white\",\"ticks\":\"\"}},\"ternary\":{\"bgcolor\":\"#E5ECF6\",\"aaxis\":{\"gridcolor\":\"white\",\"linecolor\":\"white\",\"ticks\":\"\"},\"baxis\":{\"gridcolor\":\"white\",\"linecolor\":\"white\",\"ticks\":\"\"},\"caxis\":{\"gridcolor\":\"white\",\"linecolor\":\"white\",\"ticks\":\"\"}},\"coloraxis\":{\"colorbar\":{\"outlinewidth\":0,\"ticks\":\"\"}},\"colorscale\":{\"sequential\":[[0.0,\"#0d0887\"],[0.1111111111111111,\"#46039f\"],[0.2222222222222222,\"#7201a8\"],[0.3333333333333333,\"#9c179e\"],[0.4444444444444444,\"#bd3786\"],[0.5555555555555556,\"#d8576b\"],[0.6666666666666666,\"#ed7953\"],[0.7777777777777778,\"#fb9f3a\"],[0.8888888888888888,\"#fdca26\"],[1.0,\"#f0f921\"]],\"sequentialminus\":[[0.0,\"#0d0887\"],[0.1111111111111111,\"#46039f\"],[0.2222222222222222,\"#7201a8\"],[0.3333333333333333,\"#9c179e\"],[0.4444444444444444,\"#bd3786\"],[0.5555555555555556,\"#d8576b\"],[0.6666666666666666,\"#ed7953\"],[0.7777777777777778,\"#fb9f3a\"],[0.8888888888888888,\"#fdca26\"],[1.0,\"#f0f921\"]],\"diverging\":[[0,\"#8e0152\"],[0.1,\"#c51b7d\"],[0.2,\"#de77ae\"],[0.3,\"#f1b6da\"],[0.4,\"#fde0ef\"],[0.5,\"#f7f7f7\"],[0.6,\"#e6f5d0\"],[0.7,\"#b8e186\"],[0.8,\"#7fbc41\"],[0.9,\"#4d9221\"],[1,\"#276419\"]]},\"xaxis\":{\"gridcolor\":\"white\",\"linecolor\":\"white\",\"ticks\":\"\",\"title\":{\"standoff\":15},\"zerolinecolor\":\"white\",\"automargin\":true,\"zerolinewidth\":2},\"yaxis\":{\"gridcolor\":\"white\",\"linecolor\":\"white\",\"ticks\":\"\",\"title\":{\"standoff\":15},\"zerolinecolor\":\"white\",\"automargin\":true,\"zerolinewidth\":2},\"scene\":{\"xaxis\":{\"backgroundcolor\":\"#E5ECF6\",\"gridcolor\":\"white\",\"linecolor\":\"white\",\"showbackground\":true,\"ticks\":\"\",\"zerolinecolor\":\"white\",\"gridwidth\":2},\"yaxis\":{\"backgroundcolor\":\"#E5ECF6\",\"gridcolor\":\"white\",\"linecolor\":\"white\",\"showbackground\":true,\"ticks\":\"\",\"zerolinecolor\":\"white\",\"gridwidth\":2},\"zaxis\":{\"backgroundcolor\":\"#E5ECF6\",\"gridcolor\":\"white\",\"linecolor\":\"white\",\"showbackground\":true,\"ticks\":\"\",\"zerolinecolor\":\"white\",\"gridwidth\":2}},\"shapedefaults\":{\"line\":{\"color\":\"#2a3f5f\"}},\"annotationdefaults\":{\"arrowcolor\":\"#2a3f5f\",\"arrowhead\":0,\"arrowwidth\":1},\"geo\":{\"bgcolor\":\"white\",\"landcolor\":\"#E5ECF6\",\"subunitcolor\":\"white\",\"showland\":true,\"showlakes\":true,\"lakecolor\":\"white\"},\"title\":{\"x\":0.05},\"mapbox\":{\"style\":\"light\"}}},\"legend\":{\"tracegroupgap\":0},\"title\":{\"text\":\"Types of Injuries\"},\"width\":800,\"height\":600},                        {\"responsive\": true}                    ).then(function(){\n",
       "                            \n",
       "var gd = document.getElementById('1a5bab65-d1bd-4c9b-a388-7e1728fdea73');\n",
       "var x = new MutationObserver(function (mutations, observer) {{\n",
       "        var display = window.getComputedStyle(gd).display;\n",
       "        if (!display || display === 'none') {{\n",
       "            console.log([gd, 'removed!']);\n",
       "            Plotly.purge(gd);\n",
       "            observer.disconnect();\n",
       "        }}\n",
       "}});\n",
       "\n",
       "// Listen for the removal of the full notebook cells\n",
       "var notebookContainer = gd.closest('#notebook-container');\n",
       "if (notebookContainer) {{\n",
       "    x.observe(notebookContainer, {childList: true});\n",
       "}}\n",
       "\n",
       "// Listen for the clearing of the current output cell\n",
       "var outputEl = gd.closest('.output');\n",
       "if (outputEl) {{\n",
       "    x.observe(outputEl, {childList: true});\n",
       "}}\n",
       "\n",
       "                        })                };                });            </script>        </div>"
      ]
     },
     "metadata": {},
     "output_type": "display_data"
    }
   ],
   "source": [
    "import plotly.express as px\n",
    "\n",
    "fig_injuries = px.pie(df, names='Severity of incident', title='Types of Injuries')\n",
    "\n",
    "fig_injuries.update_layout(width=800, height=600)\n",
    "\n",
    "# Show the plot\n",
    "fig_injuries.show()"
   ]
  },
  {
   "cell_type": "code",
   "execution_count": 14,
   "id": "a90db8e5",
   "metadata": {},
   "outputs": [
    {
     "name": "stdout",
     "output_type": "stream",
     "text": [
      "\n",
      "Reasons for Incidents:\n",
      "Reason for incident\n",
      "Loss of balance      152\n",
      "Muscle weakness      127\n",
      "Slip                 102\n",
      "Mental confusion      69\n",
      "Hypotension           58\n",
      "Trip                  31\n",
      "Human error           11\n",
      "Mental confusion       4\n",
      "Equipment              4\n",
      "Name: count, dtype: int64\n"
     ]
    }
   ],
   "source": [
    "# Reasons for Incidents\n",
    "print(\"\\nReasons for Incidents:\")\n",
    "print(df['Reason for incident'].value_counts())"
   ]
  },
  {
   "cell_type": "code",
   "execution_count": null,
   "id": "3e71bf41",
   "metadata": {},
   "outputs": [],
   "source": []
  },
  {
   "cell_type": "code",
   "execution_count": 17,
   "id": "3db1e5f9",
   "metadata": {},
   "outputs": [
    {
     "name": "stdout",
     "output_type": "stream",
     "text": [
      "Contingency Table:\n",
      "\n",
      "Chi-squared value: 123.07113331168831\n",
      "P-value: 4.812815618683306e-16\n",
      "\n",
      "There is a significant association between the two categorical variables.\n"
     ]
    }
   ],
   "source": [
    "import pandas as pd\n",
    "from scipy.stats import chi2_contingency\n",
    "\n",
    "contingency_table = pd.crosstab(df['Presence of companion at time of incident'], df['Severity of incident'])\n",
    "\n",
    "# contingency table\n",
    "print(\"Contingency Table:\")\n",
    "#print(contingency_table)\n",
    "\n",
    "# chi-squared test\n",
    "chi2, p, _, _ = chi2_contingency(contingency_table)\n",
    "\n",
    "\n",
    "print(\"\\nChi-squared value:\", chi2)\n",
    "print(\"P-value:\", p)\n",
    "\n",
    "if p < 0.05:\n",
    "    print(\"\\nThere is a significant association between the two categorical variables.\")\n",
    "else:\n",
    "    print(\"\\nThe two categorical variables are independent.\")\n"
   ]
  },
  {
   "cell_type": "code",
   "execution_count": null,
   "id": "d763be9d",
   "metadata": {},
   "outputs": [],
   "source": []
  }
 ],
 "metadata": {
  "kernelspec": {
   "display_name": "Python 3 (ipykernel)",
   "language": "python",
   "name": "python3"
  },
  "language_info": {
   "codemirror_mode": {
    "name": "ipython",
    "version": 3
   },
   "file_extension": ".py",
   "mimetype": "text/x-python",
   "name": "python",
   "nbconvert_exporter": "python",
   "pygments_lexer": "ipython3",
   "version": "3.11.5"
  }
 },
 "nbformat": 4,
 "nbformat_minor": 5
}
